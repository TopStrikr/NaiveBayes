{
  "cells": [
    {
      "cell_type": "markdown",
      "metadata": {
        "id": "view-in-github",
        "colab_type": "text"
      },
      "source": [
        "<a href=\"https://colab.research.google.com/github/TopStrikr/NaiveBayes/blob/main/Naive_Bayes10_0.ipynb\" target=\"_parent\"><img src=\"https://colab.research.google.com/assets/colab-badge.svg\" alt=\"Open In Colab\"/></a>"
      ]
    },
    {
      "cell_type": "markdown",
      "metadata": {
        "id": "C7ixKaNeVV1g"
      },
      "source": [
        "# <u><center>Naive Bayes Algorithms</center></u>\n",
        "\n",
        "\n",
        "Naive Bayes models is one of the simplest supervised learning algorithms. Naive Bayes classifier is the fast, accurate and reliable algorithm. Naive Bayes classifiers have high accuracy and speed on large datasets.\n",
        "\n",
        "As the name suggested Naive Bayes is based on **Bayes Theorem**. It assumes that the effect of a particular feature in a class is independent of other features. For example, a loan applicant is desirable or not depending on his/her income, previous loan and transaction history, age, and location. Even if these features are interdependent, these features are still considered independently. This assumption simplifies computation, and that's why it is considered as **naive.**\n",
        "\n",
        "So here it is important to know what is Bayes theorem.\n",
        "Bayes’ Theorem provides a way that we can calculate the probability of a piece of data belonging to a given class, given our prior knowledge. Bayes’ Theorem is stated as:\n",
        "\n",
        "\n",
        "**P(class|data) = (P(data|class) * P(class)) / P(data)**\n",
        "\n",
        "Where P(class|data) is the probability of class given the provided data.\n",
        "\n",
        "    Lets get started with Naive Bayes. Here we will use data with collection of SMS messages. It contains 5572 records of different messages together with 747 spam messages.\n",
        "\n",
        "`Use case:** You need to classify if a message is spam or not.`\n",
        "\n",
        "Note : Download the dataset from your canvas account\n",
        "\n",
        "Reference documentation: https://scikit-learn.org/stable/modules/naive_bayes.html"
      ]
    },
    {
      "cell_type": "code",
      "execution_count": 3,
      "metadata": {
        "id": "8gBFkAaoVV1j"
      },
      "outputs": [],
      "source": [
        "#import pandas with alias pd\n",
        "#import metrics\n",
        "# import matplotlib\n",
        "import pandas as pd\n",
        "from sklearn import metrics\n",
        "import matplotlib.pyplot as plt"
      ]
    },
    {
      "cell_type": "markdown",
      "metadata": {
        "id": "_8kHkHN-VV1l"
      },
      "source": [
        "### Preparing Data\n",
        "\n",
        "<p style='text-align: right;'> 10 points </p>\n"
      ]
    },
    {
      "cell_type": "code",
      "execution_count": 4,
      "metadata": {
        "id": "WiW5HeAxVV1l"
      },
      "outputs": [],
      "source": [
        "#Read SMSSpamCollection dataset\n",
        "docs = pd.read_csv(\"/content/SMSSpamCollection.csv\")\n"
      ]
    },
    {
      "cell_type": "code",
      "execution_count": 5,
      "metadata": {
        "id": "CKm0Ub5CVV1l",
        "outputId": "d6ed8a56-ae73-45db-852e-1c817c4da52f",
        "colab": {
          "base_uri": "https://localhost:8080/",
          "height": 206
        }
      },
      "outputs": [
        {
          "output_type": "execute_result",
          "data": {
            "text/plain": [
              "  Class                                                sms\n",
              "0   ham  Go until jurong point, crazy.. Available only ...\n",
              "1   ham                      Ok lar... Joking wif u oni...\n",
              "2  spam  Free entry in 2 a wkly comp to win FA Cup fina...\n",
              "3   ham  U dun say so early hor... U c already then say...\n",
              "4   ham  Nah I don't think he goes to usf, he lives aro..."
            ],
            "text/html": [
              "\n",
              "  <div id=\"df-2601e59e-1325-4142-a2c0-f0ab2db1c269\" class=\"colab-df-container\">\n",
              "    <div>\n",
              "<style scoped>\n",
              "    .dataframe tbody tr th:only-of-type {\n",
              "        vertical-align: middle;\n",
              "    }\n",
              "\n",
              "    .dataframe tbody tr th {\n",
              "        vertical-align: top;\n",
              "    }\n",
              "\n",
              "    .dataframe thead th {\n",
              "        text-align: right;\n",
              "    }\n",
              "</style>\n",
              "<table border=\"1\" class=\"dataframe\">\n",
              "  <thead>\n",
              "    <tr style=\"text-align: right;\">\n",
              "      <th></th>\n",
              "      <th>Class</th>\n",
              "      <th>sms</th>\n",
              "    </tr>\n",
              "  </thead>\n",
              "  <tbody>\n",
              "    <tr>\n",
              "      <th>0</th>\n",
              "      <td>ham</td>\n",
              "      <td>Go until jurong point, crazy.. Available only ...</td>\n",
              "    </tr>\n",
              "    <tr>\n",
              "      <th>1</th>\n",
              "      <td>ham</td>\n",
              "      <td>Ok lar... Joking wif u oni...</td>\n",
              "    </tr>\n",
              "    <tr>\n",
              "      <th>2</th>\n",
              "      <td>spam</td>\n",
              "      <td>Free entry in 2 a wkly comp to win FA Cup fina...</td>\n",
              "    </tr>\n",
              "    <tr>\n",
              "      <th>3</th>\n",
              "      <td>ham</td>\n",
              "      <td>U dun say so early hor... U c already then say...</td>\n",
              "    </tr>\n",
              "    <tr>\n",
              "      <th>4</th>\n",
              "      <td>ham</td>\n",
              "      <td>Nah I don't think he goes to usf, he lives aro...</td>\n",
              "    </tr>\n",
              "  </tbody>\n",
              "</table>\n",
              "</div>\n",
              "    <div class=\"colab-df-buttons\">\n",
              "\n",
              "  <div class=\"colab-df-container\">\n",
              "    <button class=\"colab-df-convert\" onclick=\"convertToInteractive('df-2601e59e-1325-4142-a2c0-f0ab2db1c269')\"\n",
              "            title=\"Convert this dataframe to an interactive table.\"\n",
              "            style=\"display:none;\">\n",
              "\n",
              "  <svg xmlns=\"http://www.w3.org/2000/svg\" height=\"24px\" viewBox=\"0 -960 960 960\">\n",
              "    <path d=\"M120-120v-720h720v720H120Zm60-500h600v-160H180v160Zm220 220h160v-160H400v160Zm0 220h160v-160H400v160ZM180-400h160v-160H180v160Zm440 0h160v-160H620v160ZM180-180h160v-160H180v160Zm440 0h160v-160H620v160Z\"/>\n",
              "  </svg>\n",
              "    </button>\n",
              "\n",
              "  <style>\n",
              "    .colab-df-container {\n",
              "      display:flex;\n",
              "      gap: 12px;\n",
              "    }\n",
              "\n",
              "    .colab-df-convert {\n",
              "      background-color: #E8F0FE;\n",
              "      border: none;\n",
              "      border-radius: 50%;\n",
              "      cursor: pointer;\n",
              "      display: none;\n",
              "      fill: #1967D2;\n",
              "      height: 32px;\n",
              "      padding: 0 0 0 0;\n",
              "      width: 32px;\n",
              "    }\n",
              "\n",
              "    .colab-df-convert:hover {\n",
              "      background-color: #E2EBFA;\n",
              "      box-shadow: 0px 1px 2px rgba(60, 64, 67, 0.3), 0px 1px 3px 1px rgba(60, 64, 67, 0.15);\n",
              "      fill: #174EA6;\n",
              "    }\n",
              "\n",
              "    .colab-df-buttons div {\n",
              "      margin-bottom: 4px;\n",
              "    }\n",
              "\n",
              "    [theme=dark] .colab-df-convert {\n",
              "      background-color: #3B4455;\n",
              "      fill: #D2E3FC;\n",
              "    }\n",
              "\n",
              "    [theme=dark] .colab-df-convert:hover {\n",
              "      background-color: #434B5C;\n",
              "      box-shadow: 0px 1px 3px 1px rgba(0, 0, 0, 0.15);\n",
              "      filter: drop-shadow(0px 1px 2px rgba(0, 0, 0, 0.3));\n",
              "      fill: #FFFFFF;\n",
              "    }\n",
              "  </style>\n",
              "\n",
              "    <script>\n",
              "      const buttonEl =\n",
              "        document.querySelector('#df-2601e59e-1325-4142-a2c0-f0ab2db1c269 button.colab-df-convert');\n",
              "      buttonEl.style.display =\n",
              "        google.colab.kernel.accessAllowed ? 'block' : 'none';\n",
              "\n",
              "      async function convertToInteractive(key) {\n",
              "        const element = document.querySelector('#df-2601e59e-1325-4142-a2c0-f0ab2db1c269');\n",
              "        const dataTable =\n",
              "          await google.colab.kernel.invokeFunction('convertToInteractive',\n",
              "                                                    [key], {});\n",
              "        if (!dataTable) return;\n",
              "\n",
              "        const docLinkHtml = 'Like what you see? Visit the ' +\n",
              "          '<a target=\"_blank\" href=https://colab.research.google.com/notebooks/data_table.ipynb>data table notebook</a>'\n",
              "          + ' to learn more about interactive tables.';\n",
              "        element.innerHTML = '';\n",
              "        dataTable['output_type'] = 'display_data';\n",
              "        await google.colab.output.renderOutput(dataTable, element);\n",
              "        const docLink = document.createElement('div');\n",
              "        docLink.innerHTML = docLinkHtml;\n",
              "        element.appendChild(docLink);\n",
              "      }\n",
              "    </script>\n",
              "  </div>\n",
              "\n",
              "\n",
              "<div id=\"df-14574844-419b-42e7-95de-3834195f9753\">\n",
              "  <button class=\"colab-df-quickchart\" onclick=\"quickchart('df-14574844-419b-42e7-95de-3834195f9753')\"\n",
              "            title=\"Suggest charts\"\n",
              "            style=\"display:none;\">\n",
              "\n",
              "<svg xmlns=\"http://www.w3.org/2000/svg\" height=\"24px\"viewBox=\"0 0 24 24\"\n",
              "     width=\"24px\">\n",
              "    <g>\n",
              "        <path d=\"M19 3H5c-1.1 0-2 .9-2 2v14c0 1.1.9 2 2 2h14c1.1 0 2-.9 2-2V5c0-1.1-.9-2-2-2zM9 17H7v-7h2v7zm4 0h-2V7h2v10zm4 0h-2v-4h2v4z\"/>\n",
              "    </g>\n",
              "</svg>\n",
              "  </button>\n",
              "\n",
              "<style>\n",
              "  .colab-df-quickchart {\n",
              "      --bg-color: #E8F0FE;\n",
              "      --fill-color: #1967D2;\n",
              "      --hover-bg-color: #E2EBFA;\n",
              "      --hover-fill-color: #174EA6;\n",
              "      --disabled-fill-color: #AAA;\n",
              "      --disabled-bg-color: #DDD;\n",
              "  }\n",
              "\n",
              "  [theme=dark] .colab-df-quickchart {\n",
              "      --bg-color: #3B4455;\n",
              "      --fill-color: #D2E3FC;\n",
              "      --hover-bg-color: #434B5C;\n",
              "      --hover-fill-color: #FFFFFF;\n",
              "      --disabled-bg-color: #3B4455;\n",
              "      --disabled-fill-color: #666;\n",
              "  }\n",
              "\n",
              "  .colab-df-quickchart {\n",
              "    background-color: var(--bg-color);\n",
              "    border: none;\n",
              "    border-radius: 50%;\n",
              "    cursor: pointer;\n",
              "    display: none;\n",
              "    fill: var(--fill-color);\n",
              "    height: 32px;\n",
              "    padding: 0;\n",
              "    width: 32px;\n",
              "  }\n",
              "\n",
              "  .colab-df-quickchart:hover {\n",
              "    background-color: var(--hover-bg-color);\n",
              "    box-shadow: 0 1px 2px rgba(60, 64, 67, 0.3), 0 1px 3px 1px rgba(60, 64, 67, 0.15);\n",
              "    fill: var(--button-hover-fill-color);\n",
              "  }\n",
              "\n",
              "  .colab-df-quickchart-complete:disabled,\n",
              "  .colab-df-quickchart-complete:disabled:hover {\n",
              "    background-color: var(--disabled-bg-color);\n",
              "    fill: var(--disabled-fill-color);\n",
              "    box-shadow: none;\n",
              "  }\n",
              "\n",
              "  .colab-df-spinner {\n",
              "    border: 2px solid var(--fill-color);\n",
              "    border-color: transparent;\n",
              "    border-bottom-color: var(--fill-color);\n",
              "    animation:\n",
              "      spin 1s steps(1) infinite;\n",
              "  }\n",
              "\n",
              "  @keyframes spin {\n",
              "    0% {\n",
              "      border-color: transparent;\n",
              "      border-bottom-color: var(--fill-color);\n",
              "      border-left-color: var(--fill-color);\n",
              "    }\n",
              "    20% {\n",
              "      border-color: transparent;\n",
              "      border-left-color: var(--fill-color);\n",
              "      border-top-color: var(--fill-color);\n",
              "    }\n",
              "    30% {\n",
              "      border-color: transparent;\n",
              "      border-left-color: var(--fill-color);\n",
              "      border-top-color: var(--fill-color);\n",
              "      border-right-color: var(--fill-color);\n",
              "    }\n",
              "    40% {\n",
              "      border-color: transparent;\n",
              "      border-right-color: var(--fill-color);\n",
              "      border-top-color: var(--fill-color);\n",
              "    }\n",
              "    60% {\n",
              "      border-color: transparent;\n",
              "      border-right-color: var(--fill-color);\n",
              "    }\n",
              "    80% {\n",
              "      border-color: transparent;\n",
              "      border-right-color: var(--fill-color);\n",
              "      border-bottom-color: var(--fill-color);\n",
              "    }\n",
              "    90% {\n",
              "      border-color: transparent;\n",
              "      border-bottom-color: var(--fill-color);\n",
              "    }\n",
              "  }\n",
              "</style>\n",
              "\n",
              "  <script>\n",
              "    async function quickchart(key) {\n",
              "      const quickchartButtonEl =\n",
              "        document.querySelector('#' + key + ' button');\n",
              "      quickchartButtonEl.disabled = true;  // To prevent multiple clicks.\n",
              "      quickchartButtonEl.classList.add('colab-df-spinner');\n",
              "      try {\n",
              "        const charts = await google.colab.kernel.invokeFunction(\n",
              "            'suggestCharts', [key], {});\n",
              "      } catch (error) {\n",
              "        console.error('Error during call to suggestCharts:', error);\n",
              "      }\n",
              "      quickchartButtonEl.classList.remove('colab-df-spinner');\n",
              "      quickchartButtonEl.classList.add('colab-df-quickchart-complete');\n",
              "    }\n",
              "    (() => {\n",
              "      let quickchartButtonEl =\n",
              "        document.querySelector('#df-14574844-419b-42e7-95de-3834195f9753 button');\n",
              "      quickchartButtonEl.style.display =\n",
              "        google.colab.kernel.accessAllowed ? 'block' : 'none';\n",
              "    })();\n",
              "  </script>\n",
              "</div>\n",
              "\n",
              "    </div>\n",
              "  </div>\n"
            ],
            "application/vnd.google.colaboratory.intrinsic+json": {
              "type": "dataframe",
              "variable_name": "docs",
              "summary": "{\n  \"name\": \"docs\",\n  \"rows\": 5572,\n  \"fields\": [\n    {\n      \"column\": \"Class\",\n      \"properties\": {\n        \"dtype\": \"category\",\n        \"num_unique_values\": 2,\n        \"samples\": [\n          \"spam\",\n          \"ham\"\n        ],\n        \"semantic_type\": \"\",\n        \"description\": \"\"\n      }\n    },\n    {\n      \"column\": \"sms\",\n      \"properties\": {\n        \"dtype\": \"string\",\n        \"num_unique_values\": 5169,\n        \"samples\": [\n          \"K, makes sense, btw carlos is being difficult so you guys are gonna smoke while I go pick up the second batch and get gas\",\n          \"URGENT! Your mobile No *********** WON a \\u00a32,000 Bonus Caller Prize on 02/06/03! This is the 2nd attempt to reach YOU! Call 09066362220 ASAP! BOX97N7QP, 150ppm\"\n        ],\n        \"semantic_type\": \"\",\n        \"description\": \"\"\n      }\n    }\n  ]\n}"
            }
          },
          "metadata": {},
          "execution_count": 5
        }
      ],
      "source": [
        "#print first 5 records\n",
        "docs.head()"
      ]
    },
    {
      "cell_type": "code",
      "execution_count": 6,
      "metadata": {
        "id": "LcFsNVpNVV1m",
        "outputId": "907eaeb8-b51d-4536-9630-02da68128d48",
        "colab": {
          "base_uri": "https://localhost:8080/"
        }
      },
      "outputs": [
        {
          "output_type": "stream",
          "name": "stdout",
          "text": [
            "Class\n",
            "ham     4825\n",
            "spam     747\n",
            "Name: count, dtype: int64\n"
          ]
        }
      ],
      "source": [
        "# counting spam and ham instances\n",
        "ham_spam=docs.Class.value_counts()\n",
        "\n",
        "#print ham_spam\n",
        "print(ham_spam)"
      ]
    },
    {
      "cell_type": "code",
      "execution_count": 7,
      "metadata": {
        "id": "UBjR3c9JVV1n",
        "outputId": "885c42de-3b7c-4ee0-f565-b6d332082225",
        "colab": {
          "base_uri": "https://localhost:8080/"
        }
      },
      "outputs": [
        {
          "output_type": "stream",
          "name": "stdout",
          "text": [
            "Spam % is 13.406317300789663\n"
          ]
        }
      ],
      "source": [
        "#print percentage of spam messages in your dataset\n",
        "print(\"Spam % is\",(ham_spam[1]/len(docs))*100)\n"
      ]
    },
    {
      "cell_type": "code",
      "execution_count": 8,
      "metadata": {
        "id": "K95943n4VV1n",
        "outputId": "6eaa53af-fef7-4e02-d1a4-a1619e658807",
        "colab": {
          "base_uri": "https://localhost:8080/",
          "height": 206
        }
      },
      "outputs": [
        {
          "output_type": "execute_result",
          "data": {
            "text/plain": [
              "  Class                                                sms  label\n",
              "0   ham  Go until jurong point, crazy.. Available only ...      0\n",
              "1   ham                      Ok lar... Joking wif u oni...      0\n",
              "2  spam  Free entry in 2 a wkly comp to win FA Cup fina...      1\n",
              "3   ham  U dun say so early hor... U c already then say...      0\n",
              "4   ham  Nah I don't think he goes to usf, he lives aro...      0"
            ],
            "text/html": [
              "\n",
              "  <div id=\"df-7b10cbda-0e36-4b12-9669-d79215d17a7c\" class=\"colab-df-container\">\n",
              "    <div>\n",
              "<style scoped>\n",
              "    .dataframe tbody tr th:only-of-type {\n",
              "        vertical-align: middle;\n",
              "    }\n",
              "\n",
              "    .dataframe tbody tr th {\n",
              "        vertical-align: top;\n",
              "    }\n",
              "\n",
              "    .dataframe thead th {\n",
              "        text-align: right;\n",
              "    }\n",
              "</style>\n",
              "<table border=\"1\" class=\"dataframe\">\n",
              "  <thead>\n",
              "    <tr style=\"text-align: right;\">\n",
              "      <th></th>\n",
              "      <th>Class</th>\n",
              "      <th>sms</th>\n",
              "      <th>label</th>\n",
              "    </tr>\n",
              "  </thead>\n",
              "  <tbody>\n",
              "    <tr>\n",
              "      <th>0</th>\n",
              "      <td>ham</td>\n",
              "      <td>Go until jurong point, crazy.. Available only ...</td>\n",
              "      <td>0</td>\n",
              "    </tr>\n",
              "    <tr>\n",
              "      <th>1</th>\n",
              "      <td>ham</td>\n",
              "      <td>Ok lar... Joking wif u oni...</td>\n",
              "      <td>0</td>\n",
              "    </tr>\n",
              "    <tr>\n",
              "      <th>2</th>\n",
              "      <td>spam</td>\n",
              "      <td>Free entry in 2 a wkly comp to win FA Cup fina...</td>\n",
              "      <td>1</td>\n",
              "    </tr>\n",
              "    <tr>\n",
              "      <th>3</th>\n",
              "      <td>ham</td>\n",
              "      <td>U dun say so early hor... U c already then say...</td>\n",
              "      <td>0</td>\n",
              "    </tr>\n",
              "    <tr>\n",
              "      <th>4</th>\n",
              "      <td>ham</td>\n",
              "      <td>Nah I don't think he goes to usf, he lives aro...</td>\n",
              "      <td>0</td>\n",
              "    </tr>\n",
              "  </tbody>\n",
              "</table>\n",
              "</div>\n",
              "    <div class=\"colab-df-buttons\">\n",
              "\n",
              "  <div class=\"colab-df-container\">\n",
              "    <button class=\"colab-df-convert\" onclick=\"convertToInteractive('df-7b10cbda-0e36-4b12-9669-d79215d17a7c')\"\n",
              "            title=\"Convert this dataframe to an interactive table.\"\n",
              "            style=\"display:none;\">\n",
              "\n",
              "  <svg xmlns=\"http://www.w3.org/2000/svg\" height=\"24px\" viewBox=\"0 -960 960 960\">\n",
              "    <path d=\"M120-120v-720h720v720H120Zm60-500h600v-160H180v160Zm220 220h160v-160H400v160Zm0 220h160v-160H400v160ZM180-400h160v-160H180v160Zm440 0h160v-160H620v160ZM180-180h160v-160H180v160Zm440 0h160v-160H620v160Z\"/>\n",
              "  </svg>\n",
              "    </button>\n",
              "\n",
              "  <style>\n",
              "    .colab-df-container {\n",
              "      display:flex;\n",
              "      gap: 12px;\n",
              "    }\n",
              "\n",
              "    .colab-df-convert {\n",
              "      background-color: #E8F0FE;\n",
              "      border: none;\n",
              "      border-radius: 50%;\n",
              "      cursor: pointer;\n",
              "      display: none;\n",
              "      fill: #1967D2;\n",
              "      height: 32px;\n",
              "      padding: 0 0 0 0;\n",
              "      width: 32px;\n",
              "    }\n",
              "\n",
              "    .colab-df-convert:hover {\n",
              "      background-color: #E2EBFA;\n",
              "      box-shadow: 0px 1px 2px rgba(60, 64, 67, 0.3), 0px 1px 3px 1px rgba(60, 64, 67, 0.15);\n",
              "      fill: #174EA6;\n",
              "    }\n",
              "\n",
              "    .colab-df-buttons div {\n",
              "      margin-bottom: 4px;\n",
              "    }\n",
              "\n",
              "    [theme=dark] .colab-df-convert {\n",
              "      background-color: #3B4455;\n",
              "      fill: #D2E3FC;\n",
              "    }\n",
              "\n",
              "    [theme=dark] .colab-df-convert:hover {\n",
              "      background-color: #434B5C;\n",
              "      box-shadow: 0px 1px 3px 1px rgba(0, 0, 0, 0.15);\n",
              "      filter: drop-shadow(0px 1px 2px rgba(0, 0, 0, 0.3));\n",
              "      fill: #FFFFFF;\n",
              "    }\n",
              "  </style>\n",
              "\n",
              "    <script>\n",
              "      const buttonEl =\n",
              "        document.querySelector('#df-7b10cbda-0e36-4b12-9669-d79215d17a7c button.colab-df-convert');\n",
              "      buttonEl.style.display =\n",
              "        google.colab.kernel.accessAllowed ? 'block' : 'none';\n",
              "\n",
              "      async function convertToInteractive(key) {\n",
              "        const element = document.querySelector('#df-7b10cbda-0e36-4b12-9669-d79215d17a7c');\n",
              "        const dataTable =\n",
              "          await google.colab.kernel.invokeFunction('convertToInteractive',\n",
              "                                                    [key], {});\n",
              "        if (!dataTable) return;\n",
              "\n",
              "        const docLinkHtml = 'Like what you see? Visit the ' +\n",
              "          '<a target=\"_blank\" href=https://colab.research.google.com/notebooks/data_table.ipynb>data table notebook</a>'\n",
              "          + ' to learn more about interactive tables.';\n",
              "        element.innerHTML = '';\n",
              "        dataTable['output_type'] = 'display_data';\n",
              "        await google.colab.output.renderOutput(dataTable, element);\n",
              "        const docLink = document.createElement('div');\n",
              "        docLink.innerHTML = docLinkHtml;\n",
              "        element.appendChild(docLink);\n",
              "      }\n",
              "    </script>\n",
              "  </div>\n",
              "\n",
              "\n",
              "<div id=\"df-60afc7c3-db06-460c-8229-915859f84602\">\n",
              "  <button class=\"colab-df-quickchart\" onclick=\"quickchart('df-60afc7c3-db06-460c-8229-915859f84602')\"\n",
              "            title=\"Suggest charts\"\n",
              "            style=\"display:none;\">\n",
              "\n",
              "<svg xmlns=\"http://www.w3.org/2000/svg\" height=\"24px\"viewBox=\"0 0 24 24\"\n",
              "     width=\"24px\">\n",
              "    <g>\n",
              "        <path d=\"M19 3H5c-1.1 0-2 .9-2 2v14c0 1.1.9 2 2 2h14c1.1 0 2-.9 2-2V5c0-1.1-.9-2-2-2zM9 17H7v-7h2v7zm4 0h-2V7h2v10zm4 0h-2v-4h2v4z\"/>\n",
              "    </g>\n",
              "</svg>\n",
              "  </button>\n",
              "\n",
              "<style>\n",
              "  .colab-df-quickchart {\n",
              "      --bg-color: #E8F0FE;\n",
              "      --fill-color: #1967D2;\n",
              "      --hover-bg-color: #E2EBFA;\n",
              "      --hover-fill-color: #174EA6;\n",
              "      --disabled-fill-color: #AAA;\n",
              "      --disabled-bg-color: #DDD;\n",
              "  }\n",
              "\n",
              "  [theme=dark] .colab-df-quickchart {\n",
              "      --bg-color: #3B4455;\n",
              "      --fill-color: #D2E3FC;\n",
              "      --hover-bg-color: #434B5C;\n",
              "      --hover-fill-color: #FFFFFF;\n",
              "      --disabled-bg-color: #3B4455;\n",
              "      --disabled-fill-color: #666;\n",
              "  }\n",
              "\n",
              "  .colab-df-quickchart {\n",
              "    background-color: var(--bg-color);\n",
              "    border: none;\n",
              "    border-radius: 50%;\n",
              "    cursor: pointer;\n",
              "    display: none;\n",
              "    fill: var(--fill-color);\n",
              "    height: 32px;\n",
              "    padding: 0;\n",
              "    width: 32px;\n",
              "  }\n",
              "\n",
              "  .colab-df-quickchart:hover {\n",
              "    background-color: var(--hover-bg-color);\n",
              "    box-shadow: 0 1px 2px rgba(60, 64, 67, 0.3), 0 1px 3px 1px rgba(60, 64, 67, 0.15);\n",
              "    fill: var(--button-hover-fill-color);\n",
              "  }\n",
              "\n",
              "  .colab-df-quickchart-complete:disabled,\n",
              "  .colab-df-quickchart-complete:disabled:hover {\n",
              "    background-color: var(--disabled-bg-color);\n",
              "    fill: var(--disabled-fill-color);\n",
              "    box-shadow: none;\n",
              "  }\n",
              "\n",
              "  .colab-df-spinner {\n",
              "    border: 2px solid var(--fill-color);\n",
              "    border-color: transparent;\n",
              "    border-bottom-color: var(--fill-color);\n",
              "    animation:\n",
              "      spin 1s steps(1) infinite;\n",
              "  }\n",
              "\n",
              "  @keyframes spin {\n",
              "    0% {\n",
              "      border-color: transparent;\n",
              "      border-bottom-color: var(--fill-color);\n",
              "      border-left-color: var(--fill-color);\n",
              "    }\n",
              "    20% {\n",
              "      border-color: transparent;\n",
              "      border-left-color: var(--fill-color);\n",
              "      border-top-color: var(--fill-color);\n",
              "    }\n",
              "    30% {\n",
              "      border-color: transparent;\n",
              "      border-left-color: var(--fill-color);\n",
              "      border-top-color: var(--fill-color);\n",
              "      border-right-color: var(--fill-color);\n",
              "    }\n",
              "    40% {\n",
              "      border-color: transparent;\n",
              "      border-right-color: var(--fill-color);\n",
              "      border-top-color: var(--fill-color);\n",
              "    }\n",
              "    60% {\n",
              "      border-color: transparent;\n",
              "      border-right-color: var(--fill-color);\n",
              "    }\n",
              "    80% {\n",
              "      border-color: transparent;\n",
              "      border-right-color: var(--fill-color);\n",
              "      border-bottom-color: var(--fill-color);\n",
              "    }\n",
              "    90% {\n",
              "      border-color: transparent;\n",
              "      border-bottom-color: var(--fill-color);\n",
              "    }\n",
              "  }\n",
              "</style>\n",
              "\n",
              "  <script>\n",
              "    async function quickchart(key) {\n",
              "      const quickchartButtonEl =\n",
              "        document.querySelector('#' + key + ' button');\n",
              "      quickchartButtonEl.disabled = true;  // To prevent multiple clicks.\n",
              "      quickchartButtonEl.classList.add('colab-df-spinner');\n",
              "      try {\n",
              "        const charts = await google.colab.kernel.invokeFunction(\n",
              "            'suggestCharts', [key], {});\n",
              "      } catch (error) {\n",
              "        console.error('Error during call to suggestCharts:', error);\n",
              "      }\n",
              "      quickchartButtonEl.classList.remove('colab-df-spinner');\n",
              "      quickchartButtonEl.classList.add('colab-df-quickchart-complete');\n",
              "    }\n",
              "    (() => {\n",
              "      let quickchartButtonEl =\n",
              "        document.querySelector('#df-60afc7c3-db06-460c-8229-915859f84602 button');\n",
              "      quickchartButtonEl.style.display =\n",
              "        google.colab.kernel.accessAllowed ? 'block' : 'none';\n",
              "    })();\n",
              "  </script>\n",
              "</div>\n",
              "\n",
              "    </div>\n",
              "  </div>\n"
            ],
            "application/vnd.google.colaboratory.intrinsic+json": {
              "type": "dataframe",
              "variable_name": "docs",
              "summary": "{\n  \"name\": \"docs\",\n  \"rows\": 5572,\n  \"fields\": [\n    {\n      \"column\": \"Class\",\n      \"properties\": {\n        \"dtype\": \"category\",\n        \"num_unique_values\": 2,\n        \"samples\": [\n          \"spam\",\n          \"ham\"\n        ],\n        \"semantic_type\": \"\",\n        \"description\": \"\"\n      }\n    },\n    {\n      \"column\": \"sms\",\n      \"properties\": {\n        \"dtype\": \"string\",\n        \"num_unique_values\": 5169,\n        \"samples\": [\n          \"K, makes sense, btw carlos is being difficult so you guys are gonna smoke while I go pick up the second batch and get gas\",\n          \"URGENT! Your mobile No *********** WON a \\u00a32,000 Bonus Caller Prize on 02/06/03! This is the 2nd attempt to reach YOU! Call 09066362220 ASAP! BOX97N7QP, 150ppm\"\n        ],\n        \"semantic_type\": \"\",\n        \"description\": \"\"\n      }\n    },\n    {\n      \"column\": \"label\",\n      \"properties\": {\n        \"dtype\": \"number\",\n        \"std\": 0,\n        \"min\": 0,\n        \"max\": 1,\n        \"num_unique_values\": 2,\n        \"samples\": [\n          1,\n          0\n        ],\n        \"semantic_type\": \"\",\n        \"description\": \"\"\n      }\n    }\n  ]\n}"
            }
          },
          "metadata": {},
          "execution_count": 8
        }
      ],
      "source": [
        "# mapping a column labels to ham as 0 and spam as 1\n",
        "docs['label'] = docs.Class.map({'ham':0 ,'spam':1})\n",
        "\n",
        "#print last 5 records of dataset\n",
        "docs.head(5)"
      ]
    },
    {
      "cell_type": "code",
      "execution_count": 9,
      "metadata": {
        "id": "dCwl4KWrVV1o",
        "outputId": "7afab7d9-edeb-4d9e-9802-ab6e624f3938",
        "colab": {
          "base_uri": "https://localhost:8080/"
        }
      },
      "outputs": [
        {
          "output_type": "stream",
          "name": "stdout",
          "text": [
            "(5572,)\n",
            "(5572,)\n"
          ]
        }
      ],
      "source": [
        "#Fetch all features\n",
        "X=docs.sms\n",
        "\n",
        "#Fetch label\n",
        "y=docs.label\n",
        "\n",
        "\n",
        "#print shape of X and y\n",
        "print(X.shape)\n",
        "print(y.shape)"
      ]
    },
    {
      "cell_type": "code",
      "execution_count": 10,
      "metadata": {
        "id": "VoJf7LdQVV1o"
      },
      "outputs": [],
      "source": [
        "# import train_test_split\n",
        "from sklearn.model_selection import train_test_split\n",
        "# splitting into test and train with random state as 1 and test size as 25%\n",
        "X_train, X_test, y_train, y_test = train_test_split(X,y, random_state=1,test_size=0.25)"
      ]
    },
    {
      "cell_type": "markdown",
      "metadata": {
        "id": "zxHuwbsHVV1p"
      },
      "source": [
        "## Naive Bayes in scikit-learn\n",
        "\n",
        "scikit-learn implements three naive Bayes variants based on the same number of different probabilistic distributions:\n",
        "1. **Bernoulli :** This is a binary distribution useful when a feature can be present or absent.\n",
        "2. **multinomial :**This is a discrete distribution used whenever a feature must be represented by a whole number (for example, in natural language processing, it can be the frequency of a term)\n",
        "3.**Gaussian :** This is a continuous distribution characterized by its mean and variance.\n",
        "\n",
        "So here you think, which variant will you be using for your problem statement\n",
        "\n",
        "# **`WATCH ALL VIDEOS IN THE PORTAL`**\n",
        "## **`Watch Video 1 : NaiveBayes Intro`**"
      ]
    },
    {
      "cell_type": "code",
      "execution_count": 11,
      "metadata": {
        "id": "hqxcqMZrVV1p",
        "outputId": "746bc8d5-f775-4ea4-d9d1-b87ca3f0255e",
        "colab": {
          "base_uri": "https://localhost:8080/"
        }
      },
      "outputs": [
        {
          "output_type": "execute_result",
          "data": {
            "text/plain": [
              "710     4mths half price Orange line rental & latest c...\n",
              "3740                           Did you stitch his trouser\n",
              "2711    Hope you enjoyed your new content. text stop t...\n",
              "3155    Not heard from U4 a while. Call 4 rude chat pr...\n",
              "3748    Ü neva tell me how i noe... I'm not at home in...\n",
              "Name: sms, dtype: object"
            ]
          },
          "metadata": {},
          "execution_count": 11
        }
      ],
      "source": [
        "# print X_train first 5 records\n",
        "\n",
        "X_train.head(5)"
      ]
    },
    {
      "cell_type": "markdown",
      "metadata": {
        "id": "0pXz-HTOVV1q"
      },
      "source": [
        "### vectorization of words.\n",
        "\n",
        "<p style='text-align: right;'> 20 points </p>\n",
        "\n",
        "\n",
        "Here you can see that your features are in form of sequence of words or you can say sentences. Now to feed this information into our algorithm we need make it in form of numbers.\n",
        "\n",
        "But how?\n",
        "\n",
        "Sklearn has awesome library to extract features from text. This library is called CountVectorizer: https://scikit-learn.org/stable/modules/generated/sklearn.feature_extraction.text.CountVectorizer.html\n",
        "\n",
        "Imagine breaking X in individual words and putting them all in a bag. Then we pick all the unique words from the bag one by one and make a dictionary of unique words.\n",
        "\n",
        "This is called **vectorization of words**. We have the class ```CountVectorizer()``` in scikit learn to vectorize the words. Let us first see it in action before explaining it further.\n",
        "\n",
        "```Countvectorizer()``` will convert the documents into a set of unique words alphabetically sorted and indexed.\n",
        "**Stop Words**\n",
        "\n",
        "We can see a few trivial words such as  'and','is','of', etc. These words don't really make any difference in classyfying a document. These are called 'stop words'. So we would like to get rid of them.\n",
        "\n",
        "We can remove them by passing a parameter stop_words='english' while instantiating ```Countvectorizer()```\n",
        "\n",
        "\n",
        "**Reference video:**"
      ]
    },
    {
      "cell_type": "markdown",
      "source": [
        "## **`Watch Video 2: Text Analytics(Count Vectorizer)`**"
      ],
      "metadata": {
        "id": "BY1iCYGym9oQ"
      }
    },
    {
      "cell_type": "code",
      "execution_count": 12,
      "metadata": {
        "id": "H0sxWrsnVV1r",
        "outputId": "5eaac456-0e4c-42a6-86bd-d3cba114c6c6",
        "colab": {
          "base_uri": "https://localhost:8080/",
          "height": 74
        }
      },
      "outputs": [
        {
          "output_type": "execute_result",
          "data": {
            "text/plain": [
              "CountVectorizer(stop_words='english')"
            ],
            "text/html": [
              "<style>#sk-container-id-1 {color: black;background-color: white;}#sk-container-id-1 pre{padding: 0;}#sk-container-id-1 div.sk-toggleable {background-color: white;}#sk-container-id-1 label.sk-toggleable__label {cursor: pointer;display: block;width: 100%;margin-bottom: 0;padding: 0.3em;box-sizing: border-box;text-align: center;}#sk-container-id-1 label.sk-toggleable__label-arrow:before {content: \"▸\";float: left;margin-right: 0.25em;color: #696969;}#sk-container-id-1 label.sk-toggleable__label-arrow:hover:before {color: black;}#sk-container-id-1 div.sk-estimator:hover label.sk-toggleable__label-arrow:before {color: black;}#sk-container-id-1 div.sk-toggleable__content {max-height: 0;max-width: 0;overflow: hidden;text-align: left;background-color: #f0f8ff;}#sk-container-id-1 div.sk-toggleable__content pre {margin: 0.2em;color: black;border-radius: 0.25em;background-color: #f0f8ff;}#sk-container-id-1 input.sk-toggleable__control:checked~div.sk-toggleable__content {max-height: 200px;max-width: 100%;overflow: auto;}#sk-container-id-1 input.sk-toggleable__control:checked~label.sk-toggleable__label-arrow:before {content: \"▾\";}#sk-container-id-1 div.sk-estimator input.sk-toggleable__control:checked~label.sk-toggleable__label {background-color: #d4ebff;}#sk-container-id-1 div.sk-label input.sk-toggleable__control:checked~label.sk-toggleable__label {background-color: #d4ebff;}#sk-container-id-1 input.sk-hidden--visually {border: 0;clip: rect(1px 1px 1px 1px);clip: rect(1px, 1px, 1px, 1px);height: 1px;margin: -1px;overflow: hidden;padding: 0;position: absolute;width: 1px;}#sk-container-id-1 div.sk-estimator {font-family: monospace;background-color: #f0f8ff;border: 1px dotted black;border-radius: 0.25em;box-sizing: border-box;margin-bottom: 0.5em;}#sk-container-id-1 div.sk-estimator:hover {background-color: #d4ebff;}#sk-container-id-1 div.sk-parallel-item::after {content: \"\";width: 100%;border-bottom: 1px solid gray;flex-grow: 1;}#sk-container-id-1 div.sk-label:hover label.sk-toggleable__label {background-color: #d4ebff;}#sk-container-id-1 div.sk-serial::before {content: \"\";position: absolute;border-left: 1px solid gray;box-sizing: border-box;top: 0;bottom: 0;left: 50%;z-index: 0;}#sk-container-id-1 div.sk-serial {display: flex;flex-direction: column;align-items: center;background-color: white;padding-right: 0.2em;padding-left: 0.2em;position: relative;}#sk-container-id-1 div.sk-item {position: relative;z-index: 1;}#sk-container-id-1 div.sk-parallel {display: flex;align-items: stretch;justify-content: center;background-color: white;position: relative;}#sk-container-id-1 div.sk-item::before, #sk-container-id-1 div.sk-parallel-item::before {content: \"\";position: absolute;border-left: 1px solid gray;box-sizing: border-box;top: 0;bottom: 0;left: 50%;z-index: -1;}#sk-container-id-1 div.sk-parallel-item {display: flex;flex-direction: column;z-index: 1;position: relative;background-color: white;}#sk-container-id-1 div.sk-parallel-item:first-child::after {align-self: flex-end;width: 50%;}#sk-container-id-1 div.sk-parallel-item:last-child::after {align-self: flex-start;width: 50%;}#sk-container-id-1 div.sk-parallel-item:only-child::after {width: 0;}#sk-container-id-1 div.sk-dashed-wrapped {border: 1px dashed gray;margin: 0 0.4em 0.5em 0.4em;box-sizing: border-box;padding-bottom: 0.4em;background-color: white;}#sk-container-id-1 div.sk-label label {font-family: monospace;font-weight: bold;display: inline-block;line-height: 1.2em;}#sk-container-id-1 div.sk-label-container {text-align: center;}#sk-container-id-1 div.sk-container {/* jupyter's `normalize.less` sets `[hidden] { display: none; }` but bootstrap.min.css set `[hidden] { display: none !important; }` so we also need the `!important` here to be able to override the default hidden behavior on the sphinx rendered scikit-learn.org. See: https://github.com/scikit-learn/scikit-learn/issues/21755 */display: inline-block !important;position: relative;}#sk-container-id-1 div.sk-text-repr-fallback {display: none;}</style><div id=\"sk-container-id-1\" class=\"sk-top-container\"><div class=\"sk-text-repr-fallback\"><pre>CountVectorizer(stop_words=&#x27;english&#x27;)</pre><b>In a Jupyter environment, please rerun this cell to show the HTML representation or trust the notebook. <br />On GitHub, the HTML representation is unable to render, please try loading this page with nbviewer.org.</b></div><div class=\"sk-container\" hidden><div class=\"sk-item\"><div class=\"sk-estimator sk-toggleable\"><input class=\"sk-toggleable__control sk-hidden--visually\" id=\"sk-estimator-id-1\" type=\"checkbox\" checked><label for=\"sk-estimator-id-1\" class=\"sk-toggleable__label sk-toggleable__label-arrow\">CountVectorizer</label><div class=\"sk-toggleable__content\"><pre>CountVectorizer(stop_words=&#x27;english&#x27;)</pre></div></div></div></div></div>"
            ]
          },
          "metadata": {},
          "execution_count": 12
        }
      ],
      "source": [
        "# import CountVectorizer\n",
        "from sklearn.feature_extraction.text import CountVectorizer\n",
        "#Instantiate CountVectorizer with stop_words\n",
        "vect =CountVectorizer(stop_words='english')\n",
        "\n",
        "\n",
        "# fit vect on your feature text (X_train)\n",
        "vect.fit(X_train)"
      ]
    },
    {
      "cell_type": "markdown",
      "metadata": {
        "id": "yipEeQx-VV1s"
      },
      "source": [
        "Here ```vect``` is an object of class ```CountVectorizer()```. This has a method called  ```fit()``` which converts a corpus of documents into a vector of unique words as shown below."
      ]
    },
    {
      "cell_type": "markdown",
      "metadata": {
        "id": "p4MwPQIiVV1s"
      },
      "source": [
        "Bam! So you have fit the features with X_train. Remember its not tranformed into vectors yet."
      ]
    },
    {
      "cell_type": "code",
      "execution_count": 13,
      "metadata": {
        "id": "lnrvJujlVV1s",
        "outputId": "0edbabac-408b-43ee-9693-bc0d8a75d492",
        "colab": {
          "base_uri": "https://localhost:8080/"
        }
      },
      "outputs": [
        {
          "output_type": "execute_result",
          "data": {
            "text/plain": [
              "{'4mths': 509,\n",
              " 'half': 3089,\n",
              " 'price': 5027,\n",
              " 'orange': 4626,\n",
              " 'line': 3852,\n",
              " 'rental': 5310,\n",
              " 'latest': 3763,\n",
              " 'camera': 1527,\n",
              " 'phones': 4822,\n",
              " 'free': 2780,\n",
              " 'phone': 4818,\n",
              " '11mths': 264,\n",
              " 'mobilesdirect': 4248,\n",
              " '08000938767': 50,\n",
              " 'update': 6673,\n",
              " 'or2stoptxt': 4624,\n",
              " 'cs': 1971,\n",
              " 'did': 2169,\n",
              " 'stitch': 6028,\n",
              " 'trouser': 6545,\n",
              " 'hope': 3260,\n",
              " 'enjoyed': 2436,\n",
              " 'new': 4442,\n",
              " 'content': 1867,\n",
              " 'text': 6321,\n",
              " 'stop': 6038,\n",
              " '61610': 563,\n",
              " 'unsubscribe': 6665,\n",
              " 'help': 3180,\n",
              " '08712400602450p': 98,\n",
              " 'provided': 5089,\n",
              " 'tones2you': 6473,\n",
              " 'uk': 6614,\n",
              " 'heard': 3159,\n",
              " 'u4': 6608,\n",
              " 'rude': 5443,\n",
              " 'chat': 1643,\n",
              " 'private': 5040,\n",
              " '01223585334': 5,\n",
              " 'cum': 1989,\n",
              " 'wan': 6852,\n",
              " '2c': 374,\n",
              " 'pics': 4837,\n",
              " 'gettin': 2913,\n",
              " 'shagged': 5628,\n",
              " 'pix': 4858,\n",
              " '8552': 660,\n",
              " '2end': 378,\n",
              " 'send': 5590,\n",
              " 'sam': 5487,\n",
              " 'xxx': 7127,\n",
              " 'neva': 4438,\n",
              " 'tell': 6289,\n",
              " 'noe': 4477,\n",
              " 'home': 3244,\n",
              " 'da': 2015,\n",
              " 'aft': 826,\n",
              " 'wat': 6876,\n",
              " 'wiskey': 7012,\n",
              " 'brandy': 1389,\n",
              " 'rum': 5450,\n",
              " 'gin': 2927,\n",
              " 'beer': 1209,\n",
              " 'vodka': 6798,\n",
              " 'scotch': 5535,\n",
              " 'shampain': 5637,\n",
              " 'wine': 6993,\n",
              " 'kudi': 3715,\n",
              " 'yarasu': 7142,\n",
              " 'dhina': 2156,\n",
              " 'vaazhthukkal': 6720,\n",
              " 'seeking': 5573,\n",
              " 'lady': 3732,\n",
              " 'street': 6056,\n",
              " 'freak': 2776,\n",
              " 'sheets': 5649,\n",
              " 'lol': 3910,\n",
              " 'drunkard': 2327,\n",
              " 'just': 3623,\n",
              " 'doing': 2259,\n",
              " 'hair': 3085,\n",
              " 'moment': 4265,\n",
              " 'yeah': 7149,\n",
              " 'tonight': 6475,\n",
              " 'wats': 6887,\n",
              " 'plan': 4867,\n",
              " 'turning': 6579,\n",
              " 'moms': 4267,\n",
              " 'telling': 6290,\n",
              " 'cancer': 1535,\n",
              " 'sister': 5745,\n",
              " 'won': 7041,\n",
              " 'calling': 1519,\n",
              " 'hurts': 3323,\n",
              " 'talk': 6234,\n",
              " 'love': 3953,\n",
              " 'coming': 1800,\n",
              " 'dinner': 2193,\n",
              " 'rite': 5396,\n",
              " 'dad': 2018,\n",
              " 'ask': 1032,\n",
              " 'confirm': 1843,\n",
              " 'wif': 6977,\n",
              " 'ah': 842,\n",
              " 'poor': 4931,\n",
              " 'baby': 1121,\n",
              " 'urfeeling': 6687,\n",
              " 'bettersn': 1243,\n",
              " 'luv': 3988,\n",
              " 'probthat': 5052,\n",
              " 'overdose': 4667,\n",
              " 'work': 7058,\n",
              " 'hey': 3198,\n",
              " 'careful': 1556,\n",
              " 'spk': 5938,\n",
              " 'sn': 5822,\n",
              " 'lots': 3942,\n",
              " 'lovejen': 3955,\n",
              " 'gam': 2856,\n",
              " 'gone': 2968,\n",
              " 'outstanding': 4664,\n",
              " 'innings': 3438,\n",
              " 'nice': 4453,\n",
              " 'working': 7062,\n",
              " 'haha': 3081,\n",
              " 'kidding': 3672,\n",
              " 'papa': 4705,\n",
              " 'needs': 4417,\n",
              " 'drugs': 2325,\n",
              " 'chief': 1677,\n",
              " 'bell': 1223,\n",
              " 'need': 4412,\n",
              " 'royal': 5432,\n",
              " 'visit': 6789,\n",
              " '1st': 324,\n",
              " 'june': 3618,\n",
              " 'ugh': 6610,\n",
              " 'long': 3917,\n",
              " 'day': 2054,\n",
              " 'exhausted': 2523,\n",
              " 'want': 6857,\n",
              " 'cuddle': 1984,\n",
              " 'nap': 4381,\n",
              " 'awesome': 1103,\n",
              " 'time': 6418,\n",
              " 'like': 3840,\n",
              " 'lt': 3974,\n",
              " 'gt': 3044,\n",
              " 'll': 3887,\n",
              " 'details': 2143,\n",
              " 'wee': 6916,\n",
              " 'bit': 1277,\n",
              " 'ok': 4578,\n",
              " 'lor': 3932,\n",
              " 'thk': 6376,\n",
              " 'tickets': 6407,\n",
              " 'cos': 1901,\n",
              " 'quite': 5149,\n",
              " 'late': 3760,\n",
              " 'look': 3921,\n",
              " 'ur': 6684,\n",
              " 'frens': 2791,\n",
              " 'darren': 2041,\n",
              " 'dont': 2269,\n",
              " 'know': 3700,\n",
              " 'bring': 1414,\n",
              " 'food': 2730,\n",
              " 'reason': 5224,\n",
              " 've': 6744,\n",
              " 'spoken': 5948,\n",
              " 'year': 7150,\n",
              " 'anyways': 947,\n",
              " 'great': 3020,\n",
              " 'week': 6918,\n",
              " 'best': 1237,\n",
              " 'exam': 2511,\n",
              " 'make': 4042,\n",
              " 'fucks': 2825,\n",
              " 'sake': 5476,\n",
              " 'yes': 7160,\n",
              " 'place': 4862,\n",
              " 'town': 6504,\n",
              " 'meet': 4130,\n",
              " 'exciting': 2515,\n",
              " 'adult': 806,\n",
              " 'singles': 5739,\n",
              " 'txt': 6590,\n",
              " '86688': 664,\n",
              " '150p': 293,\n",
              " 'msg': 4315,\n",
              " 'man': 4052,\n",
              " 'print': 5035,\n",
              " 'outs': 4660,\n",
              " 'room': 5418,\n",
              " 'think': 6368,\n",
              " 'saying': 5517,\n",
              " 'clearly': 1734,\n",
              " 'leave': 3793,\n",
              " 'come': 1794,\n",
              " 'st': 5972,\n",
              " 'andre': 912,\n",
              " 'virgil': 6783,\n",
              " 'cream': 1947,\n",
              " 'yoyyooo': 7179,\n",
              " 'change': 1623,\n",
              " 'permissions': 4789,\n",
              " 'drive': 2313,\n",
              " 'mac': 4013,\n",
              " 'usb': 6699,\n",
              " 'flash': 2692,\n",
              " 'sunshine': 6148,\n",
              " 'quiz': 5151,\n",
              " 'wkly': 7024,\n",
              " 'win': 6987,\n",
              " 'sony': 5865,\n",
              " 'dvd': 2350,\n",
              " 'player': 4875,\n",
              " 'country': 1914,\n",
              " 'algarve': 875,\n",
              " 'ansr': 927,\n",
              " '82277': 637,\n",
              " '50': 520,\n",
              " 'sp': 5898,\n",
              " 'tyrone': 6606,\n",
              " 'dear': 2066,\n",
              " 'th': 6333,\n",
              " 'birthday': 1275,\n",
              " 'loving': 3963,\n",
              " 'gopalettan': 2984,\n",
              " 'planning': 4871,\n",
              " 'small': 5796,\n",
              " 'gift': 2921,\n",
              " 'participate': 4724,\n",
              " 'welcome': 6933,\n",
              " 'contact': 1863,\n",
              " 'admin': 793,\n",
              " 'team': 6274,\n",
              " 'class': 1724,\n",
              " 'hours': 3282,\n",
              " 'sorry': 5877,\n",
              " 'okay': 4579,\n",
              " 'wait': 6834,\n",
              " 'rushing': 5458,\n",
              " 'school': 5527,\n",
              " 'rush': 5457,\n",
              " 'hungry': 3314,\n",
              " 'usually': 6712,\n",
              " 'stops': 6044,\n",
              " 'hella': 3177,\n",
              " 'weed': 6917,\n",
              " 'smoke': 5811,\n",
              " 'awarded': 1101,\n",
              " 'city': 1715,\n",
              " 'break': 1396,\n",
              " '200': 335,\n",
              " 'summer': 6139,\n",
              " 'shopping': 5681,\n",
              " 'spree': 5961,\n",
              " 'wk': 7020,\n",
              " 'store': 6046,\n",
              " '88039': 675,\n",
              " 'skilgme': 5759,\n",
              " 'tscs087147403231winawk': 6562,\n",
              " 'age16': 832,\n",
              " '50perwksub': 528,\n",
              " 'shall': 5635,\n",
              " 'pickle': 4836,\n",
              " 'isn': 3506,\n",
              " 'frnd': 2809,\n",
              " 'necesity': 4407,\n",
              " 'life': 3830,\n",
              " 'imagine': 3376,\n",
              " 'urself': 6697,\n",
              " 'witout': 7017,\n",
              " 'hw': 3328,\n",
              " 'feel': 2620,\n",
              " 'colleg': 1786,\n",
              " 'wth': 7102,\n",
              " 'cell': 1605,\n",
              " 'abt': 742,\n",
              " 'functions': 2833,\n",
              " 'thnk': 6378,\n",
              " 'events': 2491,\n",
              " 'espe': 2474,\n",
              " 'cared': 1553,\n",
              " 'missed': 4215,\n",
              " 'amp': 903,\n",
              " 'irritated': 3496,\n",
              " '4wrd': 517,\n",
              " 'frnds': 2810,\n",
              " 'wthout': 7103,\n",
              " 'live': 3880,\n",
              " 'jst': 3605,\n",
              " 'takecare': 6228,\n",
              " 'goodmorning': 2977,\n",
              " 'brum': 1437,\n",
              " 'thanks': 6337,\n",
              " 'putting': 5126,\n",
              " 'keeping': 3651,\n",
              " 'happy': 3120,\n",
              " 'soon': 5868,\n",
              " 'im': 3373,\n",
              " 'tellmiss': 6291,\n",
              " 'way': 6891,\n",
              " 'bloomberg': 1310,\n",
              " 'message': 4163,\n",
              " 'center': 1607,\n",
              " '447797706009': 482,\n",
              " 'apply': 969,\n",
              " 'future': 2842,\n",
              " 'http': 3298,\n",
              " 'careers': 1555,\n",
              " 'com': 1791,\n",
              " 'enjoy': 2435,\n",
              " 'plural': 4892,\n",
              " 'noun': 4515,\n",
              " 'research': 5331,\n",
              " 'sure': 6165,\n",
              " 'checking': 1656,\n",
              " 'happening': 3114,\n",
              " 'area': 991,\n",
              " 'aight': 850,\n",
              " 'sleeping': 5774,\n",
              " 'surfing': 6168,\n",
              " 'cool': 1888,\n",
              " 'breeze': 1406,\n",
              " 'bright': 1410,\n",
              " 'sun': 6142,\n",
              " 'fresh': 2793,\n",
              " 'flower': 2711,\n",
              " 'twittering': 6588,\n",
              " 'birds': 1270,\n",
              " 'waiting': 6837,\n",
              " 'wish': 7006,\n",
              " 'ringtone': 5389,\n",
              " 'order': 4630,\n",
              " 'reference': 5261,\n",
              " 'number': 4526,\n",
              " 'x49': 7114,\n",
              " 'mobile': 4246,\n",
              " 'charged': 1633,\n",
              " 'tone': 6470,\n",
              " 'arrive': 1016,\n",
              " 'customer': 2002,\n",
              " 'services': 5609,\n",
              " '09065989182': 214,\n",
              " 'colour': 1789,\n",
              " 'red': 5257,\n",
              " 'txtstar': 6598,\n",
              " 'does': 2245,\n",
              " 'uncle': 6626,\n",
              " 'timi': 6420,\n",
              " 'clearing': 1733,\n",
              " 'cars': 1569,\n",
              " 'getting': 2914,\n",
              " 'really': 5219,\n",
              " 'bad': 1128,\n",
              " 'totally': 6498,\n",
              " 'rejected': 5281,\n",
              " 'kinda': 3682,\n",
              " 'thing': 6366,\n",
              " 'sent': 5598,\n",
              " 'prices': 5028,\n",
              " 'mean': 4116,\n",
              " 'hi': 3202,\n",
              " 'darlin': 2038,\n",
              " 'london': 3914,\n",
              " 'smashed': 5801,\n",
              " 'driver': 2314,\n",
              " 'big': 1257,\n",
              " 'dent': 2118,\n",
              " 'missing': 4217,\n",
              " 'took': 6479,\n",
              " 'tablets': 6217,\n",
              " 'reaction': 5205,\n",
              " 'morning': 4289,\n",
              " 'going': 2959,\n",
              " 'intention': 3459,\n",
              " 'run': 5453,\n",
              " 'choose': 1700,\n",
              " 'clean': 1728,\n",
              " 'don': 2266,\n",
              " 'say': 5516,\n",
              " 'visitors': 6791,\n",
              " 'maybe': 4111,\n",
              " 'choice': 1698,\n",
              " 'wanted': 6859,\n",
              " 'embarassed': 2413,\n",
              " 'friend': 2800,\n",
              " 'wants': 6861,\n",
              " 'drop': 2319,\n",
              " 'buy': 1483,\n",
              " 'happened': 3113,\n",
              " 'tried': 6537,\n",
              " 'picking': 4835,\n",
              " 'various': 6735,\n",
              " 'points': 4914,\n",
              " 'yeovil': 7157,\n",
              " 'motor': 4298,\n",
              " 'project': 5064,\n",
              " '12': 266,\n",
              " '30': 412,\n",
              " 'max': 4106,\n",
              " 'easy': 2368,\n",
              " 'test': 6316,\n",
              " 'rd': 5199,\n",
              " 'fret': 2794,\n",
              " 'ovulation': 4673,\n",
              " 'strips': 6066,\n",
              " 'wont': 7048,\n",
              " 'til': 6416,\n",
              " 'march': 4072,\n",
              " 'postal': 4953,\n",
              " 'address': 790,\n",
              " 'alright': 887,\n",
              " 'loyalty': 3970,\n",
              " 'offer': 4560,\n",
              " 'nokia6650': 4485,\n",
              " '10': 244,\n",
              " 'txtauction': 6593,\n",
              " 'word': 7056,\n",
              " 'start': 5993,\n",
              " '81151': 632,\n",
              " '4t': 511,\n",
              " 'ctxt': 1982,\n",
              " 'tc': 6266,\n",
              " 'mtmsg': 4325,\n",
              " 'remember': 5295,\n",
              " 'alex': 873,\n",
              " 'pizza': 4860,\n",
              " 'av': 1084,\n",
              " 'wil': 6982,\n",
              " 'use': 6701,\n",
              " 'ta': 6214,\n",
              " 'urgent': 6688,\n",
              " 'trying': 6558,\n",
              " 'todays': 6454,\n",
              " 'draw': 2301,\n",
              " 'shows': 5701,\n",
              " '800': 617,\n",
              " 'prize': 5043,\n",
              " 'guaranteed': 3048,\n",
              " '09050001808': 158,\n",
              " 'land': 3740,\n",
              " 'claim': 1718,\n",
              " 'm95': 4008,\n",
              " 'valid12hrs': 6727,\n",
              " 'babe': 1119,\n",
              " 'lost': 3939,\n",
              " 'painful': 4690,\n",
              " 'personal': 4795,\n",
              " 'thought': 6384,\n",
              " 'try': 6556,\n",
              " 'everybody': 2492,\n",
              " 'recognises': 5250,\n",
              " 'subscribed': 6105,\n",
              " 'service': 5608,\n",
              " 'days': 2055,\n",
              " '82324': 638,\n",
              " 'helpline': 3185,\n",
              " '08706091795': 83,\n",
              " 'basket': 1164,\n",
              " 'mum': 4336,\n",
              " 'messages': 4165,\n",
              " 'got': 2988,\n",
              " 'actually': 781,\n",
              " 'rest': 5351,\n",
              " 'january': 3541,\n",
              " 'male': 4049,\n",
              " 'sale': 5480,\n",
              " 'hot': 3276,\n",
              " 'gay': 2877,\n",
              " 'cheaper': 1649,\n",
              " '08709222922': 88,\n",
              " 'national': 4391,\n",
              " 'rate': 5187,\n",
              " '5p': 548,\n",
              " 'min': 4187,\n",
              " 'cheap': 1648,\n",
              " '8p': 695,\n",
              " 'peak': 4765,\n",
              " 'texts': 6331,\n",
              " '08712460324': 108,\n",
              " '10p': 254,\n",
              " 'honesty': 3249,\n",
              " 'road': 5399,\n",
              " 'bank': 1146,\n",
              " 'tomorrow': 6469,\n",
              " 'tough': 6502,\n",
              " 'decisions': 2080,\n",
              " 'people': 4776,\n",
              " 'womdarfull': 7039,\n",
              " 'actor': 779,\n",
              " 'congrats': 1847,\n",
              " 'special': 5910,\n",
              " 'cinema': 1713,\n",
              " 'pass': 4731,\n",
              " '09061209465': 180,\n",
              " 'suprman': 6163,\n",
              " 'matrix3': 4101,\n",
              " 'starwars3': 5997,\n",
              " 'bx420': 1493,\n",
              " 'ip4': 3484,\n",
              " '5we': 552,\n",
              " '150pm': 295,\n",
              " 'miss': 4213,\n",
              " 'movie': 4304,\n",
              " 'juz': 3626,\n",
              " 'minute': 4202,\n",
              " 'decision': 2079,\n",
              " 'mah': 4031,\n",
              " 'watch': 6877,\n",
              " 'lar': 3751,\n",
              " 'tot': 6496,\n",
              " 'interested': 3460,\n",
              " 'care': 1551,\n",
              " 'sweet': 6191,\n",
              " 'dreams': 2305,\n",
              " 'ummifying': 6620,\n",
              " 'bye': 1495,\n",
              " 'gud': 3050,\n",
              " 'ni8': 4451,\n",
              " 'slp': 5794,\n",
              " 'swt': 6203,\n",
              " 'muah': 4330,\n",
              " 'youdoing': 7172,\n",
              " 'later': 3762,\n",
              " 'sar': 5495,\n",
              " 'money': 4270,\n",
              " '09050000460': 153,\n",
              " 'j89': 3526,\n",
              " 'po': 4897,\n",
              " 'box245c2150pm': 1364,\n",
              " 'issue': 3508,\n",
              " 'weigh': 6924,\n",
              " 'breathe': 1403,\n",
              " 'easier': 2363,\n",
              " 'regret': 5278,\n",
              " 'gr8': 3000,\n",
              " 'leaving': 3795,\n",
              " 'plans': 4872,\n",
              " 'havent': 3142,\n",
              " 'sir': 5742,\n",
              " 'group': 3034,\n",
              " 'mail': 4034,\n",
              " 'check': 1653,\n",
              " 'hit': 3216,\n",
              " 'cash': 1573,\n",
              " 'girl': 2928,\n",
              " '2004': 338,\n",
              " 'account': 760,\n",
              " 'statement': 5998,\n",
              " '07742676969': 27,\n",
              " '786': 608,\n",
              " 'unredeemed': 6661,\n",
              " 'bonus': 1332,\n",
              " '08719180248': 144,\n",
              " 'identifier': 3355,\n",
              " 'code': 1770,\n",
              " '45239': 489,\n",
              " 'expires': 2538,\n",
              " 'mins': 4200,\n",
              " 'busy': 1479,\n",
              " 'finish': 2670,\n",
              " 'looking': 3924,\n",
              " 'forward': 2761,\n",
              " 'finally': 2663,\n",
              " 'meeting': 4132,\n",
              " 'hmv': 3230,\n",
              " '500': 521,\n",
              " 'pounds': 4965,\n",
              " 'genuine': 2901,\n",
              " 'vouchers': 6808,\n",
              " 'answer': 928,\n",
              " 'questions': 5144,\n",
              " 'play': 4873,\n",
              " 'info': 3425,\n",
              " 'www': 7110,\n",
              " '100percent': 249,\n",
              " 'real': 5210,\n",
              " 'accidentally': 754,\n",
              " 'left': 3798,\n",
              " 'silent': 5726,\n",
              " 'night': 4460,\n",
              " 'didn': 2170,\n",
              " 'ya': 7134,\n",
              " 'tht': 6398,\n",
              " 'incident': 3399,\n",
              " 'good': 2972,\n",
              " 'problem': 5047,\n",
              " 'little': 3879,\n",
              " 'experience': 2534,\n",
              " 'understand': 6633,\n",
              " 'american': 895,\n",
              " 'voice': 6799,\n",
              " 'used': 6702,\n",
              " 'agents': 836,\n",
              " 'booked': 1336,\n",
              " 'things': 6367,\n",
              " 'boston': 1350,\n",
              " 'nyc': 4539,\n",
              " 'experiment': 2535,\n",
              " 'online': 4599,\n",
              " 'transaction': 6515,\n",
              " 'came': 1526,\n",
              " 'hostel': 3274,\n",
              " 'sleep': 5772,\n",
              " 'plz': 4895,\n",
              " 'hrishi': 3295,\n",
              " 'fuuuuck': 2843,\n",
              " 'sleepin': 5773,\n",
              " 'sup': 6150,\n",
              " 'dude': 2337,\n",
              " 'makin': 4045,\n",
              " 'weirdy': 6931,\n",
              " 'brownies': 1433,\n",
              " 'cookies': 1886,\n",
              " 'secret': 5560,\n",
              " 'admirer': 795,\n",
              " 'reveal': 5368,\n",
              " 'thinks': 6372,\n",
              " '09058094599': 175,\n",
              " 'oh': 4573,\n",
              " 'training': 6512,\n",
              " 'manual': 4066,\n",
              " 'tech': 6279,\n",
              " 'process': 5053,\n",
              " 'password': 4737,\n",
              " 'reset': 5337,\n",
              " 'troubleshooting': 6544,\n",
              " 'computerless': 1831,\n",
              " 'oreo': 4633,\n",
              " 'truffles': 6550,\n",
              " 'watching': 6880,\n",
              " 'tv': 6582,\n",
              " 'job': 3580,\n",
              " 'hoping': 3264,\n",
              " 'game': 2858,\n",
              " 'yesterday': 7162,\n",
              " 'touch': 6500,\n",
              " 'pls': 4888,\n",
              " 'fondly': 2725,\n",
              " 'bein': 1220,\n",
              " 'thot': 6382,\n",
              " 'abiola': 732,\n",
              " 'nite': 4470,\n",
              " 'pocay': 4907,\n",
              " 'wocay': 7035,\n",
              " '4eva': 502,\n",
              " 'promise': 5068,\n",
              " 'ring': 5387,\n",
              " '2morrowxxxx': 393,\n",
              " 'yup': 7189,\n",
              " 'thanx': 6342,\n",
              " 'reply': 5321,\n",
              " 'pick': 4833,\n",
              " 'heart': 3162,\n",
              " 'mind': 4190,\n",
              " 'wisdom': 7004,\n",
              " 'eyes': 2555,\n",
              " 'alwys': 891,\n",
              " 'panren': 4700,\n",
              " 'paru': 4729,\n",
              " 'wife': 6978,\n",
              " 'relax': 5286,\n",
              " 'wkend': 7021,\n",
              " 'fun': 2831,\n",
              " 'truly': 6551,\n",
              " 'forget': 2746,\n",
              " 'gbp': 2881,\n",
              " 'sms': 5817,\n",
              " 'approve': 975,\n",
              " 'panalam': 4695,\n",
              " 'posts': 4959,\n",
              " 'paid': 4688,\n",
              " 'commercial': 1804,\n",
              " 'hasbro': 3129,\n",
              " 'august': 1075,\n",
              " 'jump': 3616,\n",
              " 'hoops': 3258,\n",
              " 'shut': 5711,\n",
              " 'omg': 4592,\n",
              " 'dream': 2304,\n",
              " 'kids': 3673,\n",
              " 'boys': 1381,\n",
              " 'pissed': 4855,\n",
              " 'told': 6460,\n",
              " 'mark': 4076,\n",
              " 'changing': 1626,\n",
              " 'diapers': 2164,\n",
              " 'cause': 1588,\n",
              " 'owed': 4676,\n",
              " 'face': 2559,\n",
              " 'ey': 2553,\n",
              " 'calm': 1523,\n",
              " 'downon': 2292,\n",
              " 'theacusations': 6347,\n",
              " 'itxt': 3517,\n",
              " 'iwana': 3520,\n",
              " 'wotu': 7077,\n",
              " 'doin': 2257,\n",
              " 'thew': 6362,\n",
              " 'end': 2422,\n",
              " 'haventcn': 3143,\n",
              " 'ages': 837,\n",
              " 'up4': 6669,\n",
              " 'nething': 4432,\n",
              " 'sat': 5502,\n",
              " 'dramatic': 2299,\n",
              " 'schools': 5528,\n",
              " 'closed': 1742,\n",
              " 'apparently': 961,\n",
              " 'inch': 3397,\n",
              " 'snow': 5832,\n",
              " 'supposed': 6161,\n",
              " 'woke': 7036,\n",
              " 'blur': 1319,\n",
              " 'went': 6940,\n",
              " 'liao': 3821,\n",
              " 'oso': 4645,\n",
              " 'helloooo': 3179,\n",
              " 'wake': 6838,\n",
              " 'welcomes': 6934,\n",
              " 'joy': 3600,\n",
              " 'mrng': 4312,\n",
              " 'jason': 3546,\n",
              " 'says': 5518,\n",
              " 'gonna': 2970,\n",
              " 'mallika': 4051,\n",
              " 'sherawat': 5652,\n",
              " 'url': 6694,\n",
              " 'wa': 6823,\n",
              " 'openin': 4608,\n",
              " 'sentence': 5599,\n",
              " 'formal': 2753,\n",
              " 'fine': 2667,\n",
              " 'tt': 6565,\n",
              " 'eatin': 2371,\n",
              " 'puttin': 5125,\n",
              " 'weight': 6926,\n",
              " 'anythin': 944,\n",
              " 'tyler': 6602,\n",
              " 'minor': 4199,\n",
              " 'crisis': 1960,\n",
              " 'sooner': 5869,\n",
              " 'asap': 1024,\n",
              " 'erm': 2460,\n",
              " 'ill': 3369,\n",
              " '45pm': 490,\n",
              " 'park': 4720,\n",
              " 'treat': 6529,\n",
              " 'pending': 4773,\n",
              " 'respect': 5343,\n",
              " 'mother': 4293,\n",
              " 'mails': 4037,\n",
              " 'alrite': 888,\n",
              " 'hunny': 3316,\n",
              " 'wot': 7076,\n",
              " '2nite': 398,\n",
              " 'didnt': 2171,\n",
              " 'goin': 2958,\n",
              " 'jus': 3622,\n",
              " 'pub': 5101,\n",
              " 'instead': 3453,\n",
              " 'chillin': 1686,\n",
              " 'mo': 4242,\n",
              " 'bedroom': 1206,\n",
              " 'jen': 3559,\n",
              " 'aiyo': 860,\n",
              " 'meh': 4137,\n",
              " 'princess': 5034,\n",
              " 'times': 6419,\n",
              " 'thats': 6346,\n",
              " 'ew': 2507,\n",
              " 'friendship': 2803,\n",
              " 'poem': 4911,\n",
              " 'near': 4405,\n",
              " 'hear': 3158,\n",
              " 'fear': 2613,\n",
              " 'cheer': 1660,\n",
              " 'tear': 6275,\n",
              " 'added': 786,\n",
              " 'list': 3868,\n",
              " 'fullonsms': 2829,\n",
              " 'ignoring': 3363,\n",
              " 'dating': 2049,\n",
              " 'started': 5994,\n",
              " 'sport': 5954,\n",
              " 'radio': 5160,\n",
              " 'connection': 1851,\n",
              " 'coincidence': 1774,\n",
              " 'hook': 3257,\n",
              " 'means': 4120,\n",
              " 'right': 5383,\n",
              " 'valuable': 6728,\n",
              " 'situations': 5752,\n",
              " 'second': 5557,\n",
              " 'loosing': 3930,\n",
              " 'si': 5713,\n",
              " 'como': 1808,\n",
              " 'listened2the': 3871,\n",
              " 'plaid': 4866,\n",
              " 'album': 867,\n",
              " 'gd': 2884,\n",
              " 'air1': 854,\n",
              " 'hilarious': 3207,\n",
              " 'bought': 1354,\n",
              " 'braindance': 1386,\n",
              " 'comp': 1809,\n",
              " 'ofstuff': 4570,\n",
              " 'aphex': 953,\n",
              " 'abel': 728,\n",
              " 'hav2hear': 3139,\n",
              " 'xxxx': 7129,\n",
              " 'wana': 6854,\n",
              " 'praps': 4988,\n",
              " 'meant': 4121,\n",
              " 'goodo': 2981,\n",
              " 'stay': 6001,\n",
              " 'england': 2433,\n",
              " 'official': 4566,\n",
              " 'poly': 4918,\n",
              " 'flag': 2688,\n",
              " 'yer': 7159,\n",
              " '84199': 653,\n",
              " 'opt': 4618,\n",
              " 'eng': 2430,\n",
              " 'box39822': 1369,\n",
              " 'w111wx': 6814,\n",
              " 'honeybee': 3251,\n",
              " 'said': 5475,\n",
              " 'sweetest': 6192,\n",
              " 'world': 7065,\n",
              " 'god': 2954,\n",
              " 'laughed': 3767,\n",
              " 'havnt': 3147,\n",
              " 'met': 4170,\n",
              " 'person': 4794,\n",
              " 'reading': 5208,\n",
              " 'moral': 4285,\n",
              " 'crack': 1934,\n",
              " 'jokes': 3590,\n",
              " 'gm': 2943,\n",
              " 'gn': 2945,\n",
              " 'ge': 2886,\n",
              " 'study': 6082,\n",
              " 'tap': 6247,\n",
              " 'spile': 5931,\n",
              " 'seven': 5616,\n",
              " 'gas': 2870,\n",
              " 'broad': 1422,\n",
              " 'canal': 1530,\n",
              " 'wan2': 6853,\n",
              " 'greet': 3023,\n",
              " 'westlife': 6950,\n",
              " 'm8': 4006,\n",
              " 'currently': 1997,\n",
              " 'tour': 6503,\n",
              " 'unbreakable': 6625,\n",
              " 'untamed': 6667,\n",
              " 'unkempt': 6652,\n",
              " '83049': 640,\n",
              " 'cost': 1903,\n",
              " '50p': 526,\n",
              " 'std': 6006,\n",
              " 'drunk': 2326,\n",
              " 'motherfucker': 4294,\n",
              " 'textbuddy': 6324,\n",
              " 'horny': 3266,\n",
              " 'guys': 3068,\n",
              " '25p': 362,\n",
              " 'receive': 5237,\n",
              " 'search': 5552,\n",
              " 'postcode': 4955,\n",
              " 'gaytextbuddy': 2880,\n",
              " '89693': 690,\n",
              " '08715500022': 122,\n",
              " 'rpl': 5434,\n",
              " 'cnl': 1759,\n",
              " 'hiya': 3220,\n",
              " 'weekend': 6920,\n",
              " 'usual': 6711,\n",
              " 'ard': 990,\n",
              " 'smth': 5821,\n",
              " 'doc': 2239,\n",
              " 'gave': 2876,\n",
              " 'pain': 4689,\n",
              " 'meds': 4128,\n",
              " 'mahal': 4032,\n",
              " 'bus': 1473,\n",
              " 'decimal': 2078,\n",
              " 'cooking': 1887,\n",
              " 'oops': 4604,\n",
              " 'tomo': 6467,\n",
              " 'station': 5999,\n",
              " 'dhoni': 2157,\n",
              " 'luck': 3978,\n",
              " 'title': 6433,\n",
              " 'waking': 6839,\n",
              " 'afternoon': 828,\n",
              " 'church': 1710,\n",
              " 'holla': 3240,\n",
              " 'let': 3815,\n",
              " 'salad': 5477,\n",
              " 'desert': 2132,\n",
              " 'beers': 1210,\n",
              " 'news': 4447,\n",
              " 'freefone': 2784,\n",
              " '08006344447': 56,\n",
              " '1000': 246,\n",
              " '2000': 336,\n",
              " 'speak': 5908,\n",
              " 'operator': 4612,\n",
              " 'hr': 3294,\n",
              " 'trip': 6538,\n",
              " 'audition': 1072,\n",
              " 'wednesday': 6914,\n",
              " 'whats': 6955,\n",
              " 'printed': 5036,\n",
              " 'upstairs': 6682,\n",
              " 'wasnt': 6872,\n",
              " 'phoned': 4821,\n",
              " 'voda': 6796,\n",
              " 'numbers': 4527,\n",
              " 'ending': 2424,\n",
              " '1225': 270,\n",
              " 'selected': 5579,\n",
              " '50award': 523,\n",
              " 'match': 4094,\n",
              " '08712300220': 95,\n",
              " 'quoting': 5155,\n",
              " '3100': 424,\n",
              " 'standard': 5984,\n",
              " 'rates': 5188,\n",
              " 'app': 960,\n",
              " 'today': 6453,\n",
              " 'accept': 749,\n",
              " 'brother': 1429,\n",
              " 'lover': 3958,\n",
              " 'dear1': 2067,\n",
              " 'best1': 1238,\n",
              " 'clos1': 1740,\n",
              " 'lvblefrnd': 3993,\n",
              " 'jstfrnd': 3606,\n",
              " 'cutefrnd': 2007,\n",
              " 'lifpartnr': 3833,\n",
              " 'belovd': 1228,\n",
              " 'swtheart': 6204,\n",
              " 'bstfrnd': 1442,\n",
              " 'rply': 5435,\n",
              " 'enemy': 2428,\n",
              " 'bloo': 1307,\n",
              " 'bowl': 1358,\n",
              " 'urgnt': 6691,\n",
              " 'wating': 6885,\n",
              " 'difficult': 2181,\n",
              " 'girls': 2931,\n",
              " 'companion': 1811,\n",
              " 'chef': 1666,\n",
              " 'listener': 3872,\n",
              " 'organizer': 4636,\n",
              " 'boyfriend': 1380,\n",
              " 'sympathetic': 6207,\n",
              " 'athletic': 1054,\n",
              " 'warm': 6864,\n",
              " 'courageous': 1919,\n",
              " 'determined': 2145,\n",
              " 'true': 6548,\n",
              " 'dependable': 2125,\n",
              " 'intelligent': 3457,\n",
              " 'psychologist': 5098,\n",
              " 'pest': 4802,\n",
              " 'exterminator': 2550,\n",
              " 'psychiatrist': 5096,\n",
              " 'healer': 3156,\n",
              " 'stylist': 6094,\n",
              " 'aaniye': 722,\n",
              " 'pudunga': 5105,\n",
              " 'venaam': 6749,\n",
              " 'request': 5326,\n",
              " 'maangalyam': 4011,\n",
              " 'alaipayuthe': 866,\n",
              " 'set': 5611,\n",
              " 'callertune': 1516,\n",
              " 'callers': 1515,\n",
              " 'press': 5017,\n",
              " 'copy': 1893,\n",
              " 'friends': 2801,\n",
              " 'tirunelvai': 6428,\n",
              " 'lick': 3825,\n",
              " 'pussy': 5123,\n",
              " 'inside': 3447,\n",
              " 'office': 4564,\n",
              " 'filling': 2654,\n",
              " 'forms': 2757,\n",
              " 'textin': 6327,\n",
              " 'bout': 1356,\n",
              " 'worries': 7069,\n",
              " 'photo': 4824,\n",
              " 'shoot': 5678,\n",
              " ...}"
            ]
          },
          "metadata": {},
          "execution_count": 13
        }
      ],
      "source": [
        "#check count of words in your features (Hint: Use vocabulary_ on CountVectorizer)\n",
        "vect.vocabulary_"
      ]
    },
    {
      "cell_type": "code",
      "execution_count": 14,
      "metadata": {
        "id": "Tn5A5sluVV1t",
        "outputId": "2b5b3c24-97f8-480b-eb61-5d4e0b8f0312",
        "colab": {
          "base_uri": "https://localhost:8080/"
        }
      },
      "outputs": [
        {
          "output_type": "execute_result",
          "data": {
            "text/plain": [
              "array(['00', '000', '008704050406', ..., 'zyada', 'èn', '〨ud'],\n",
              "      dtype=object)"
            ]
          },
          "metadata": {},
          "execution_count": 14
        }
      ],
      "source": [
        "#Check how feature names separately in form of words( Hint: Use get_feature_names function on  CountVectorizer)\n",
        "vect.get_feature_names_out()"
      ]
    },
    {
      "cell_type": "markdown",
      "metadata": {
        "id": "kqYNGStGVV1t"
      },
      "source": [
        "Now let's transform our training features.\n",
        "\n"
      ]
    },
    {
      "cell_type": "code",
      "execution_count": 15,
      "metadata": {
        "id": "SjhenI-rVV1t"
      },
      "outputs": [],
      "source": [
        "# transform feature data\n",
        "X_train_transformed = vect.transform(X_train)\n",
        "X_test_tranformed =vect.transform(X_test)"
      ]
    },
    {
      "cell_type": "code",
      "execution_count": 16,
      "metadata": {
        "id": "qG93AGt1VV1t",
        "outputId": "dfce699a-f8fd-4f6b-a99c-4f9d6ed413d3",
        "colab": {
          "base_uri": "https://localhost:8080/"
        }
      },
      "outputs": [
        {
          "output_type": "stream",
          "name": "stdout",
          "text": [
            "[[0 0 0 ... 0 0 0]\n",
            " [0 0 0 ... 0 0 0]\n",
            " [0 0 0 ... 0 0 0]\n",
            " ...\n",
            " [0 0 0 ... 0 0 0]\n",
            " [0 0 0 ... 0 0 0]\n",
            " [0 0 0 ... 0 0 0]]\n"
          ]
        }
      ],
      "source": [
        "#Now let's see how our X_train data looks like after tranformation ( hint: convert it into array and then print )\n",
        "print(X_train_transformed.toarray())\n"
      ]
    },
    {
      "cell_type": "code",
      "execution_count": 17,
      "metadata": {
        "id": "q4ijNhWXVV1u",
        "outputId": "8dab12d2-6526-4160-edba-9a7b1610820f",
        "colab": {
          "base_uri": "https://localhost:8080/"
        }
      },
      "outputs": [
        {
          "output_type": "stream",
          "name": "stdout",
          "text": [
            "7204\n"
          ]
        }
      ],
      "source": [
        "# printing length of feature names\n",
        "print(len(vect.get_feature_names_out()))"
      ]
    },
    {
      "cell_type": "markdown",
      "metadata": {
        "id": "HxO77ITgVV1u"
      },
      "source": [
        "So our final dictionary is made of 7204 words (after discarding the stop words). Now, to do classification, we need to represent all the documents with respect to these words in the form of features.\n",
        "\n",
        "Every document will be converted into a *feature vector* representing presence of these words in that document. Let's convert each of our training documents in to a feature vector.\n",
        "\n"
      ]
    },
    {
      "cell_type": "code",
      "execution_count": 18,
      "metadata": {
        "id": "THrsV94PVV1u",
        "outputId": "e4d18930-b676-4c42-c1fe-ef354768de4a",
        "colab": {
          "base_uri": "https://localhost:8080/"
        }
      },
      "outputs": [
        {
          "output_type": "execute_result",
          "data": {
            "text/plain": [
              "(4179, 7204)"
            ]
          },
          "metadata": {},
          "execution_count": 18
        }
      ],
      "source": [
        "# Print shape of X_train_transformed\n",
        "X_train_transformed.shape"
      ]
    },
    {
      "cell_type": "markdown",
      "metadata": {
        "id": "mxmMhb7mVV1-"
      },
      "source": [
        "You can see X_tranformed is a 4179 x 7456 sparse matrix. It has 4179 rows for each of our 4179 documents and 7456 columns each\n",
        "for number of words of the dictionary which we just created. Let us print X_transformed."
      ]
    },
    {
      "cell_type": "code",
      "execution_count": 19,
      "metadata": {
        "id": "UdUV_J24VV1-",
        "outputId": "786015e1-5c31-4a50-89dc-5ed9c001bbcd",
        "colab": {
          "base_uri": "https://localhost:8080/"
        }
      },
      "outputs": [
        {
          "output_type": "stream",
          "name": "stdout",
          "text": [
            "  (0, 50)\t1\n",
            "  (0, 264)\t1\n",
            "  (0, 509)\t1\n",
            "  (0, 1527)\t1\n",
            "  (0, 1971)\t1\n",
            "  (0, 2780)\t2\n",
            "  (0, 3089)\t1\n",
            "  (0, 3763)\t1\n",
            "  (0, 3852)\t1\n",
            "  (0, 4248)\t1\n",
            "  (0, 4624)\t1\n",
            "  (0, 4626)\t1\n",
            "  (0, 4818)\t1\n",
            "  (0, 4822)\t1\n",
            "  (0, 5027)\t1\n",
            "  (0, 5310)\t1\n",
            "  (0, 6673)\t1\n",
            "  (1, 2169)\t1\n",
            "  (1, 6028)\t1\n",
            "  (1, 6545)\t1\n",
            "  (2, 98)\t1\n",
            "  (2, 563)\t1\n",
            "  (2, 1867)\t1\n",
            "  (2, 2436)\t1\n",
            "  (2, 3180)\t1\n",
            "  :\t:\n",
            "  (4176, 3879)\t1\n",
            "  (4176, 4417)\t1\n",
            "  (4176, 5229)\t1\n",
            "  (4176, 6191)\t1\n",
            "  (4176, 7134)\t1\n",
            "  (4177, 254)\t1\n",
            "  (4177, 307)\t1\n",
            "  (4177, 358)\t1\n",
            "  (4177, 831)\t1\n",
            "  (4177, 2046)\t1\n",
            "  (4177, 2704)\t1\n",
            "  (4177, 3585)\t1\n",
            "  (4177, 3623)\t1\n",
            "  (4177, 4130)\t1\n",
            "  (4177, 4315)\t1\n",
            "  (4177, 4771)\t1\n",
            "  (4177, 5234)\t1\n",
            "  (4177, 5321)\t1\n",
            "  (4177, 5487)\t1\n",
            "  (4177, 5620)\t1\n",
            "  (4177, 6321)\t1\n",
            "  (4177, 6374)\t1\n",
            "  (4177, 6453)\t1\n",
            "  (4178, 1643)\t1\n",
            "  (4178, 5817)\t1\n"
          ]
        }
      ],
      "source": [
        "#Print X_train_transformed\n",
        "print(X_train_transformed)"
      ]
    },
    {
      "cell_type": "markdown",
      "metadata": {
        "id": "wrs-ohizVV1_"
      },
      "source": [
        "This representation can be understood as follows:\n",
        "\n",
        "Consider first 4 rows of the output: (0,50), (0,264), (0,509) and (0,1552). It says that the first document (index 0) has\n",
        "50th , 264nd , 509th and 1552th 'word' present in the document, and that they appear only\n",
        "once/twice in the document- indicated by the right hand column entry.\n",
        "\n",
        "\n",
        "\n",
        "In real problems, you often work with large documents and vocabularies, and each document contains only a few words in the vocabulary. So it would be a waste of space to store the vocabulary in a typical dataframe, since most entries would be zero. Also, matrix products, additions etc. are much faster with sparse matrices. That's why we use sparse matrices to store the data.\n",
        "\n",
        "\n"
      ]
    },
    {
      "cell_type": "code",
      "execution_count": 20,
      "metadata": {
        "id": "kQcvU8gxVV1_",
        "outputId": "3132d31a-a06e-4468-8f8e-4650e2b93811",
        "colab": {
          "base_uri": "https://localhost:8080/"
        }
      },
      "outputs": [
        {
          "output_type": "execute_result",
          "data": {
            "text/plain": [
              "array(['00', '000', '008704050406', ..., 'zyada', 'èn', '〨ud'],\n",
              "      dtype=object)"
            ]
          },
          "metadata": {},
          "execution_count": 20
        }
      ],
      "source": [
        "#Print feature names\n",
        "vect.get_feature_names_out()"
      ]
    },
    {
      "cell_type": "code",
      "execution_count": 21,
      "metadata": {
        "id": "CRxuxmIPVV1_",
        "outputId": "434df2bf-27de-47dd-d7c9-c74e5e111517",
        "colab": {
          "base_uri": "https://localhost:8080/",
          "height": 461
        }
      },
      "outputs": [
        {
          "output_type": "execute_result",
          "data": {
            "text/plain": [
              "      00  000  008704050406  0121  01223585236  01223585334  0125698789  02  \\\n",
              "0      0    0             0     0            0            0           0   0   \n",
              "1      0    0             0     0            0            0           0   0   \n",
              "2      0    0             0     0            0            0           0   0   \n",
              "3      0    0             0     0            0            1           0   0   \n",
              "4      0    0             0     0            0            0           0   0   \n",
              "...   ..  ...           ...   ...          ...          ...         ...  ..   \n",
              "4174   0    0             0     0            0            0           0   0   \n",
              "4175   0    0             0     0            0            0           0   0   \n",
              "4176   0    0             0     0            0            0           0   0   \n",
              "4177   0    0             0     0            0            0           0   0   \n",
              "4178   0    0             0     0            0            0           0   0   \n",
              "\n",
              "      0207  02072069400  ...  zed  zeros  zhong  zindgi  zoe  zoom  zouk  \\\n",
              "0        0            0  ...    0      0      0       0    0     0     0   \n",
              "1        0            0  ...    0      0      0       0    0     0     0   \n",
              "2        0            0  ...    0      0      0       0    0     0     0   \n",
              "3        0            0  ...    0      0      0       0    0     0     0   \n",
              "4        0            0  ...    0      0      0       0    0     0     0   \n",
              "...    ...          ...  ...  ...    ...    ...     ...  ...   ...   ...   \n",
              "4174     0            0  ...    0      0      0       0    0     0     0   \n",
              "4175     0            0  ...    0      0      0       0    0     0     0   \n",
              "4176     0            0  ...    0      0      0       0    0     0     0   \n",
              "4177     0            0  ...    0      0      0       0    0     0     0   \n",
              "4178     0            0  ...    0      0      0       0    0     0     0   \n",
              "\n",
              "      zyada  èn  〨ud  \n",
              "0         0   0    0  \n",
              "1         0   0    0  \n",
              "2         0   0    0  \n",
              "3         0   0    0  \n",
              "4         0   0    0  \n",
              "...     ...  ..  ...  \n",
              "4174      0   0    0  \n",
              "4175      0   0    0  \n",
              "4176      0   0    0  \n",
              "4177      0   0    0  \n",
              "4178      0   0    0  \n",
              "\n",
              "[4179 rows x 7204 columns]"
            ],
            "text/html": [
              "\n",
              "  <div id=\"df-27f5c857-bc0e-42fb-bbce-cb23a88de009\" class=\"colab-df-container\">\n",
              "    <div>\n",
              "<style scoped>\n",
              "    .dataframe tbody tr th:only-of-type {\n",
              "        vertical-align: middle;\n",
              "    }\n",
              "\n",
              "    .dataframe tbody tr th {\n",
              "        vertical-align: top;\n",
              "    }\n",
              "\n",
              "    .dataframe thead th {\n",
              "        text-align: right;\n",
              "    }\n",
              "</style>\n",
              "<table border=\"1\" class=\"dataframe\">\n",
              "  <thead>\n",
              "    <tr style=\"text-align: right;\">\n",
              "      <th></th>\n",
              "      <th>00</th>\n",
              "      <th>000</th>\n",
              "      <th>008704050406</th>\n",
              "      <th>0121</th>\n",
              "      <th>01223585236</th>\n",
              "      <th>01223585334</th>\n",
              "      <th>0125698789</th>\n",
              "      <th>02</th>\n",
              "      <th>0207</th>\n",
              "      <th>02072069400</th>\n",
              "      <th>...</th>\n",
              "      <th>zed</th>\n",
              "      <th>zeros</th>\n",
              "      <th>zhong</th>\n",
              "      <th>zindgi</th>\n",
              "      <th>zoe</th>\n",
              "      <th>zoom</th>\n",
              "      <th>zouk</th>\n",
              "      <th>zyada</th>\n",
              "      <th>èn</th>\n",
              "      <th>〨ud</th>\n",
              "    </tr>\n",
              "  </thead>\n",
              "  <tbody>\n",
              "    <tr>\n",
              "      <th>0</th>\n",
              "      <td>0</td>\n",
              "      <td>0</td>\n",
              "      <td>0</td>\n",
              "      <td>0</td>\n",
              "      <td>0</td>\n",
              "      <td>0</td>\n",
              "      <td>0</td>\n",
              "      <td>0</td>\n",
              "      <td>0</td>\n",
              "      <td>0</td>\n",
              "      <td>...</td>\n",
              "      <td>0</td>\n",
              "      <td>0</td>\n",
              "      <td>0</td>\n",
              "      <td>0</td>\n",
              "      <td>0</td>\n",
              "      <td>0</td>\n",
              "      <td>0</td>\n",
              "      <td>0</td>\n",
              "      <td>0</td>\n",
              "      <td>0</td>\n",
              "    </tr>\n",
              "    <tr>\n",
              "      <th>1</th>\n",
              "      <td>0</td>\n",
              "      <td>0</td>\n",
              "      <td>0</td>\n",
              "      <td>0</td>\n",
              "      <td>0</td>\n",
              "      <td>0</td>\n",
              "      <td>0</td>\n",
              "      <td>0</td>\n",
              "      <td>0</td>\n",
              "      <td>0</td>\n",
              "      <td>...</td>\n",
              "      <td>0</td>\n",
              "      <td>0</td>\n",
              "      <td>0</td>\n",
              "      <td>0</td>\n",
              "      <td>0</td>\n",
              "      <td>0</td>\n",
              "      <td>0</td>\n",
              "      <td>0</td>\n",
              "      <td>0</td>\n",
              "      <td>0</td>\n",
              "    </tr>\n",
              "    <tr>\n",
              "      <th>2</th>\n",
              "      <td>0</td>\n",
              "      <td>0</td>\n",
              "      <td>0</td>\n",
              "      <td>0</td>\n",
              "      <td>0</td>\n",
              "      <td>0</td>\n",
              "      <td>0</td>\n",
              "      <td>0</td>\n",
              "      <td>0</td>\n",
              "      <td>0</td>\n",
              "      <td>...</td>\n",
              "      <td>0</td>\n",
              "      <td>0</td>\n",
              "      <td>0</td>\n",
              "      <td>0</td>\n",
              "      <td>0</td>\n",
              "      <td>0</td>\n",
              "      <td>0</td>\n",
              "      <td>0</td>\n",
              "      <td>0</td>\n",
              "      <td>0</td>\n",
              "    </tr>\n",
              "    <tr>\n",
              "      <th>3</th>\n",
              "      <td>0</td>\n",
              "      <td>0</td>\n",
              "      <td>0</td>\n",
              "      <td>0</td>\n",
              "      <td>0</td>\n",
              "      <td>1</td>\n",
              "      <td>0</td>\n",
              "      <td>0</td>\n",
              "      <td>0</td>\n",
              "      <td>0</td>\n",
              "      <td>...</td>\n",
              "      <td>0</td>\n",
              "      <td>0</td>\n",
              "      <td>0</td>\n",
              "      <td>0</td>\n",
              "      <td>0</td>\n",
              "      <td>0</td>\n",
              "      <td>0</td>\n",
              "      <td>0</td>\n",
              "      <td>0</td>\n",
              "      <td>0</td>\n",
              "    </tr>\n",
              "    <tr>\n",
              "      <th>4</th>\n",
              "      <td>0</td>\n",
              "      <td>0</td>\n",
              "      <td>0</td>\n",
              "      <td>0</td>\n",
              "      <td>0</td>\n",
              "      <td>0</td>\n",
              "      <td>0</td>\n",
              "      <td>0</td>\n",
              "      <td>0</td>\n",
              "      <td>0</td>\n",
              "      <td>...</td>\n",
              "      <td>0</td>\n",
              "      <td>0</td>\n",
              "      <td>0</td>\n",
              "      <td>0</td>\n",
              "      <td>0</td>\n",
              "      <td>0</td>\n",
              "      <td>0</td>\n",
              "      <td>0</td>\n",
              "      <td>0</td>\n",
              "      <td>0</td>\n",
              "    </tr>\n",
              "    <tr>\n",
              "      <th>...</th>\n",
              "      <td>...</td>\n",
              "      <td>...</td>\n",
              "      <td>...</td>\n",
              "      <td>...</td>\n",
              "      <td>...</td>\n",
              "      <td>...</td>\n",
              "      <td>...</td>\n",
              "      <td>...</td>\n",
              "      <td>...</td>\n",
              "      <td>...</td>\n",
              "      <td>...</td>\n",
              "      <td>...</td>\n",
              "      <td>...</td>\n",
              "      <td>...</td>\n",
              "      <td>...</td>\n",
              "      <td>...</td>\n",
              "      <td>...</td>\n",
              "      <td>...</td>\n",
              "      <td>...</td>\n",
              "      <td>...</td>\n",
              "      <td>...</td>\n",
              "    </tr>\n",
              "    <tr>\n",
              "      <th>4174</th>\n",
              "      <td>0</td>\n",
              "      <td>0</td>\n",
              "      <td>0</td>\n",
              "      <td>0</td>\n",
              "      <td>0</td>\n",
              "      <td>0</td>\n",
              "      <td>0</td>\n",
              "      <td>0</td>\n",
              "      <td>0</td>\n",
              "      <td>0</td>\n",
              "      <td>...</td>\n",
              "      <td>0</td>\n",
              "      <td>0</td>\n",
              "      <td>0</td>\n",
              "      <td>0</td>\n",
              "      <td>0</td>\n",
              "      <td>0</td>\n",
              "      <td>0</td>\n",
              "      <td>0</td>\n",
              "      <td>0</td>\n",
              "      <td>0</td>\n",
              "    </tr>\n",
              "    <tr>\n",
              "      <th>4175</th>\n",
              "      <td>0</td>\n",
              "      <td>0</td>\n",
              "      <td>0</td>\n",
              "      <td>0</td>\n",
              "      <td>0</td>\n",
              "      <td>0</td>\n",
              "      <td>0</td>\n",
              "      <td>0</td>\n",
              "      <td>0</td>\n",
              "      <td>0</td>\n",
              "      <td>...</td>\n",
              "      <td>0</td>\n",
              "      <td>0</td>\n",
              "      <td>0</td>\n",
              "      <td>0</td>\n",
              "      <td>0</td>\n",
              "      <td>0</td>\n",
              "      <td>0</td>\n",
              "      <td>0</td>\n",
              "      <td>0</td>\n",
              "      <td>0</td>\n",
              "    </tr>\n",
              "    <tr>\n",
              "      <th>4176</th>\n",
              "      <td>0</td>\n",
              "      <td>0</td>\n",
              "      <td>0</td>\n",
              "      <td>0</td>\n",
              "      <td>0</td>\n",
              "      <td>0</td>\n",
              "      <td>0</td>\n",
              "      <td>0</td>\n",
              "      <td>0</td>\n",
              "      <td>0</td>\n",
              "      <td>...</td>\n",
              "      <td>0</td>\n",
              "      <td>0</td>\n",
              "      <td>0</td>\n",
              "      <td>0</td>\n",
              "      <td>0</td>\n",
              "      <td>0</td>\n",
              "      <td>0</td>\n",
              "      <td>0</td>\n",
              "      <td>0</td>\n",
              "      <td>0</td>\n",
              "    </tr>\n",
              "    <tr>\n",
              "      <th>4177</th>\n",
              "      <td>0</td>\n",
              "      <td>0</td>\n",
              "      <td>0</td>\n",
              "      <td>0</td>\n",
              "      <td>0</td>\n",
              "      <td>0</td>\n",
              "      <td>0</td>\n",
              "      <td>0</td>\n",
              "      <td>0</td>\n",
              "      <td>0</td>\n",
              "      <td>...</td>\n",
              "      <td>0</td>\n",
              "      <td>0</td>\n",
              "      <td>0</td>\n",
              "      <td>0</td>\n",
              "      <td>0</td>\n",
              "      <td>0</td>\n",
              "      <td>0</td>\n",
              "      <td>0</td>\n",
              "      <td>0</td>\n",
              "      <td>0</td>\n",
              "    </tr>\n",
              "    <tr>\n",
              "      <th>4178</th>\n",
              "      <td>0</td>\n",
              "      <td>0</td>\n",
              "      <td>0</td>\n",
              "      <td>0</td>\n",
              "      <td>0</td>\n",
              "      <td>0</td>\n",
              "      <td>0</td>\n",
              "      <td>0</td>\n",
              "      <td>0</td>\n",
              "      <td>0</td>\n",
              "      <td>...</td>\n",
              "      <td>0</td>\n",
              "      <td>0</td>\n",
              "      <td>0</td>\n",
              "      <td>0</td>\n",
              "      <td>0</td>\n",
              "      <td>0</td>\n",
              "      <td>0</td>\n",
              "      <td>0</td>\n",
              "      <td>0</td>\n",
              "      <td>0</td>\n",
              "    </tr>\n",
              "  </tbody>\n",
              "</table>\n",
              "<p>4179 rows × 7204 columns</p>\n",
              "</div>\n",
              "    <div class=\"colab-df-buttons\">\n",
              "\n",
              "  <div class=\"colab-df-container\">\n",
              "    <button class=\"colab-df-convert\" onclick=\"convertToInteractive('df-27f5c857-bc0e-42fb-bbce-cb23a88de009')\"\n",
              "            title=\"Convert this dataframe to an interactive table.\"\n",
              "            style=\"display:none;\">\n",
              "\n",
              "  <svg xmlns=\"http://www.w3.org/2000/svg\" height=\"24px\" viewBox=\"0 -960 960 960\">\n",
              "    <path d=\"M120-120v-720h720v720H120Zm60-500h600v-160H180v160Zm220 220h160v-160H400v160Zm0 220h160v-160H400v160ZM180-400h160v-160H180v160Zm440 0h160v-160H620v160ZM180-180h160v-160H180v160Zm440 0h160v-160H620v160Z\"/>\n",
              "  </svg>\n",
              "    </button>\n",
              "\n",
              "  <style>\n",
              "    .colab-df-container {\n",
              "      display:flex;\n",
              "      gap: 12px;\n",
              "    }\n",
              "\n",
              "    .colab-df-convert {\n",
              "      background-color: #E8F0FE;\n",
              "      border: none;\n",
              "      border-radius: 50%;\n",
              "      cursor: pointer;\n",
              "      display: none;\n",
              "      fill: #1967D2;\n",
              "      height: 32px;\n",
              "      padding: 0 0 0 0;\n",
              "      width: 32px;\n",
              "    }\n",
              "\n",
              "    .colab-df-convert:hover {\n",
              "      background-color: #E2EBFA;\n",
              "      box-shadow: 0px 1px 2px rgba(60, 64, 67, 0.3), 0px 1px 3px 1px rgba(60, 64, 67, 0.15);\n",
              "      fill: #174EA6;\n",
              "    }\n",
              "\n",
              "    .colab-df-buttons div {\n",
              "      margin-bottom: 4px;\n",
              "    }\n",
              "\n",
              "    [theme=dark] .colab-df-convert {\n",
              "      background-color: #3B4455;\n",
              "      fill: #D2E3FC;\n",
              "    }\n",
              "\n",
              "    [theme=dark] .colab-df-convert:hover {\n",
              "      background-color: #434B5C;\n",
              "      box-shadow: 0px 1px 3px 1px rgba(0, 0, 0, 0.15);\n",
              "      filter: drop-shadow(0px 1px 2px rgba(0, 0, 0, 0.3));\n",
              "      fill: #FFFFFF;\n",
              "    }\n",
              "  </style>\n",
              "\n",
              "    <script>\n",
              "      const buttonEl =\n",
              "        document.querySelector('#df-27f5c857-bc0e-42fb-bbce-cb23a88de009 button.colab-df-convert');\n",
              "      buttonEl.style.display =\n",
              "        google.colab.kernel.accessAllowed ? 'block' : 'none';\n",
              "\n",
              "      async function convertToInteractive(key) {\n",
              "        const element = document.querySelector('#df-27f5c857-bc0e-42fb-bbce-cb23a88de009');\n",
              "        const dataTable =\n",
              "          await google.colab.kernel.invokeFunction('convertToInteractive',\n",
              "                                                    [key], {});\n",
              "        if (!dataTable) return;\n",
              "\n",
              "        const docLinkHtml = 'Like what you see? Visit the ' +\n",
              "          '<a target=\"_blank\" href=https://colab.research.google.com/notebooks/data_table.ipynb>data table notebook</a>'\n",
              "          + ' to learn more about interactive tables.';\n",
              "        element.innerHTML = '';\n",
              "        dataTable['output_type'] = 'display_data';\n",
              "        await google.colab.output.renderOutput(dataTable, element);\n",
              "        const docLink = document.createElement('div');\n",
              "        docLink.innerHTML = docLinkHtml;\n",
              "        element.appendChild(docLink);\n",
              "      }\n",
              "    </script>\n",
              "  </div>\n",
              "\n",
              "\n",
              "<div id=\"df-796c031a-d8f9-43fc-812c-3103cd36f2f3\">\n",
              "  <button class=\"colab-df-quickchart\" onclick=\"quickchart('df-796c031a-d8f9-43fc-812c-3103cd36f2f3')\"\n",
              "            title=\"Suggest charts\"\n",
              "            style=\"display:none;\">\n",
              "\n",
              "<svg xmlns=\"http://www.w3.org/2000/svg\" height=\"24px\"viewBox=\"0 0 24 24\"\n",
              "     width=\"24px\">\n",
              "    <g>\n",
              "        <path d=\"M19 3H5c-1.1 0-2 .9-2 2v14c0 1.1.9 2 2 2h14c1.1 0 2-.9 2-2V5c0-1.1-.9-2-2-2zM9 17H7v-7h2v7zm4 0h-2V7h2v10zm4 0h-2v-4h2v4z\"/>\n",
              "    </g>\n",
              "</svg>\n",
              "  </button>\n",
              "\n",
              "<style>\n",
              "  .colab-df-quickchart {\n",
              "      --bg-color: #E8F0FE;\n",
              "      --fill-color: #1967D2;\n",
              "      --hover-bg-color: #E2EBFA;\n",
              "      --hover-fill-color: #174EA6;\n",
              "      --disabled-fill-color: #AAA;\n",
              "      --disabled-bg-color: #DDD;\n",
              "  }\n",
              "\n",
              "  [theme=dark] .colab-df-quickchart {\n",
              "      --bg-color: #3B4455;\n",
              "      --fill-color: #D2E3FC;\n",
              "      --hover-bg-color: #434B5C;\n",
              "      --hover-fill-color: #FFFFFF;\n",
              "      --disabled-bg-color: #3B4455;\n",
              "      --disabled-fill-color: #666;\n",
              "  }\n",
              "\n",
              "  .colab-df-quickchart {\n",
              "    background-color: var(--bg-color);\n",
              "    border: none;\n",
              "    border-radius: 50%;\n",
              "    cursor: pointer;\n",
              "    display: none;\n",
              "    fill: var(--fill-color);\n",
              "    height: 32px;\n",
              "    padding: 0;\n",
              "    width: 32px;\n",
              "  }\n",
              "\n",
              "  .colab-df-quickchart:hover {\n",
              "    background-color: var(--hover-bg-color);\n",
              "    box-shadow: 0 1px 2px rgba(60, 64, 67, 0.3), 0 1px 3px 1px rgba(60, 64, 67, 0.15);\n",
              "    fill: var(--button-hover-fill-color);\n",
              "  }\n",
              "\n",
              "  .colab-df-quickchart-complete:disabled,\n",
              "  .colab-df-quickchart-complete:disabled:hover {\n",
              "    background-color: var(--disabled-bg-color);\n",
              "    fill: var(--disabled-fill-color);\n",
              "    box-shadow: none;\n",
              "  }\n",
              "\n",
              "  .colab-df-spinner {\n",
              "    border: 2px solid var(--fill-color);\n",
              "    border-color: transparent;\n",
              "    border-bottom-color: var(--fill-color);\n",
              "    animation:\n",
              "      spin 1s steps(1) infinite;\n",
              "  }\n",
              "\n",
              "  @keyframes spin {\n",
              "    0% {\n",
              "      border-color: transparent;\n",
              "      border-bottom-color: var(--fill-color);\n",
              "      border-left-color: var(--fill-color);\n",
              "    }\n",
              "    20% {\n",
              "      border-color: transparent;\n",
              "      border-left-color: var(--fill-color);\n",
              "      border-top-color: var(--fill-color);\n",
              "    }\n",
              "    30% {\n",
              "      border-color: transparent;\n",
              "      border-left-color: var(--fill-color);\n",
              "      border-top-color: var(--fill-color);\n",
              "      border-right-color: var(--fill-color);\n",
              "    }\n",
              "    40% {\n",
              "      border-color: transparent;\n",
              "      border-right-color: var(--fill-color);\n",
              "      border-top-color: var(--fill-color);\n",
              "    }\n",
              "    60% {\n",
              "      border-color: transparent;\n",
              "      border-right-color: var(--fill-color);\n",
              "    }\n",
              "    80% {\n",
              "      border-color: transparent;\n",
              "      border-right-color: var(--fill-color);\n",
              "      border-bottom-color: var(--fill-color);\n",
              "    }\n",
              "    90% {\n",
              "      border-color: transparent;\n",
              "      border-bottom-color: var(--fill-color);\n",
              "    }\n",
              "  }\n",
              "</style>\n",
              "\n",
              "  <script>\n",
              "    async function quickchart(key) {\n",
              "      const quickchartButtonEl =\n",
              "        document.querySelector('#' + key + ' button');\n",
              "      quickchartButtonEl.disabled = true;  // To prevent multiple clicks.\n",
              "      quickchartButtonEl.classList.add('colab-df-spinner');\n",
              "      try {\n",
              "        const charts = await google.colab.kernel.invokeFunction(\n",
              "            'suggestCharts', [key], {});\n",
              "      } catch (error) {\n",
              "        console.error('Error during call to suggestCharts:', error);\n",
              "      }\n",
              "      quickchartButtonEl.classList.remove('colab-df-spinner');\n",
              "      quickchartButtonEl.classList.add('colab-df-quickchart-complete');\n",
              "    }\n",
              "    (() => {\n",
              "      let quickchartButtonEl =\n",
              "        document.querySelector('#df-796c031a-d8f9-43fc-812c-3103cd36f2f3 button');\n",
              "      quickchartButtonEl.style.display =\n",
              "        google.colab.kernel.accessAllowed ? 'block' : 'none';\n",
              "    })();\n",
              "  </script>\n",
              "</div>\n",
              "\n",
              "    </div>\n",
              "  </div>\n"
            ],
            "application/vnd.google.colaboratory.intrinsic+json": {
              "type": "dataframe"
            }
          },
          "metadata": {},
          "execution_count": 21
        }
      ],
      "source": [
        "'''converting X_train_transformed matrix to dataframe (Hint:X_train_transformed\n",
        "should be in an array form and columns as vector's feature name )'''\n",
        "\n",
        "\n",
        "pd.DataFrame(X_train_transformed.toarray(), columns=vect.get_feature_names_out())"
      ]
    },
    {
      "cell_type": "markdown",
      "metadata": {
        "id": "Cl7gGxKlVV1_"
      },
      "source": [
        "This table shows how many times a particular word occurs in document. In other words, this is a frequency table of the words.\n",
        "A corpus of documents can thus be represented by a matrix with one row per document and one column per\n",
        "token (e.g. word) occurring in the corpus.\n",
        "\n",
        "We call vectorization the general process of turning a collection of text documents into numerical feature vectors. This specific strategy (tokenization, counting and normalization) is called the \"Bag of Words\" representation. Documents are described by word occurrences while completely ignoring the relative position information of the words in the document."
      ]
    },
    {
      "cell_type": "markdown",
      "metadata": {
        "id": "56SiePUBVV1_"
      },
      "source": [
        "#### So, the 4 steps for vectorization are as follows\n",
        "\n",
        "- Import\n",
        "- Instantiate\n",
        "- Fit\n",
        "- Transform\n",
        "\n",
        "Let us summarise all we have done till now:\n",
        "\n",
        "- ```vect.fit(train)``` learns the vocabulary of the training data\n",
        "- ```vect.transform(train)``` uses the fitted vocabulary to build a document-term matrix from the training data\n",
        "- ```vect.transform(test)``` uses the fitted vocabulary to build a document-term matrix from the testing data (and ignores tokens it hasn't seen before)"
      ]
    },
    {
      "cell_type": "markdown",
      "metadata": {
        "id": "gdFpOqeKVV2A"
      },
      "source": [
        "## Applying Naive Bayes algorithm\n",
        "\n",
        "Wohoo! so now you can see how your textual features are converted into feature vectors which are in numeric form. Alright, now you training data is ready to be fed into your algorithm\n",
        "\n",
        "We will try using Bernoulli Naive Bayes algorithm first\n",
        "\n",
        "Reference doc: https://scikit-learn.org/stable/modules/generated/sklearn.naive_bayes.BernoulliNB.html\n",
        "\n",
        "\n",
        "### 1. Bernoulli Naive Bayes\n",
        "\n",
        "<p style='text-align: right;'> 10 points </p>\n",
        "\n",
        "\n",
        "Reference video on working of bernoulli Naive Bayes:"
      ]
    },
    {
      "cell_type": "markdown",
      "source": [
        "## **`Watch Video 3: Bernoulli Naive Bayes`**"
      ],
      "metadata": {
        "id": "yW1qTPIGnVaY"
      }
    },
    {
      "cell_type": "code",
      "execution_count": 22,
      "metadata": {
        "id": "5TVbAvxiVV2A",
        "outputId": "a1558422-9d94-41e3-860b-dc8d4d9fe616",
        "colab": {
          "base_uri": "https://localhost:8080/"
        }
      },
      "outputs": [
        {
          "output_type": "stream",
          "name": "stdout",
          "text": [
            "0.9770279971284996\n"
          ]
        }
      ],
      "source": [
        "#import BernoulliNB\n",
        "from sklearn.naive_bayes import BernoulliNB\n",
        "\n",
        "# instantiate bernoulli NB object\n",
        "bnb = BernoulliNB()\n",
        "\n",
        "# fit model on training dataset\n",
        "bnb.fit(X_train_transformed,y_train)\n",
        "# predict class of y\n",
        "y_pred_class = bnb.predict(X_test_tranformed)\n",
        "\n",
        "# predict probability on y\n",
        "y_pred_proba =bnb.predict_proba(X_test_tranformed)\n",
        "\n",
        "# print accuracy score\n",
        "print(metrics.accuracy_score(y_test, y_pred_class))"
      ]
    },
    {
      "cell_type": "markdown",
      "metadata": {
        "id": "y1K8PjrVVV2A"
      },
      "source": [
        "### Classification metrics\n",
        "\n",
        "Reference video:"
      ]
    },
    {
      "cell_type": "markdown",
      "source": [
        "## **`Watch Video 4 : Confusion Matrix`**"
      ],
      "metadata": {
        "id": "yi4f9X8Cng7O"
      }
    },
    {
      "cell_type": "code",
      "execution_count": 23,
      "metadata": {
        "id": "iQq_T8cwVV2A",
        "outputId": "70540162-60be-49f5-dbd5-585eca68c1f6",
        "colab": {
          "base_uri": "https://localhost:8080/"
        }
      },
      "outputs": [
        {
          "output_type": "stream",
          "name": "stdout",
          "text": [
            "[[1207    1]\n",
            " [  31  154]]\n"
          ]
        }
      ],
      "source": [
        "# get confusion metrics\n",
        "confusion = metrics.confusion_matrix(y_test, y_pred_class)\n",
        "\n",
        "#print confusion metrics\n",
        "print(confusion)\n",
        "#Get True negative, Flase positive, Flase negative and True positive using confusion metrics\n",
        "TN = confusion[0,0]\n",
        "FP = confusion[0,1]\n",
        "FN = confusion[1,0]\n",
        "TP = confusion[1,1]"
      ]
    },
    {
      "cell_type": "markdown",
      "metadata": {
        "id": "jOhhGFGEVV2A"
      },
      "source": [
        "TO know what exactly specificity and sensitivity are, then do watch this video :\n",
        "\n",
        "We hope by watching this small video you got your big doubts cleared!"
      ]
    },
    {
      "cell_type": "markdown",
      "source": [
        "## **`Watch Video 5 : sensitivity & specificity`**"
      ],
      "metadata": {
        "id": "Q6abmuQinsvk"
      }
    },
    {
      "cell_type": "code",
      "execution_count": 24,
      "metadata": {
        "id": "NUqJRnBOVV2A",
        "outputId": "53ee4bbd-c983-44c0-b325-0a47d2eec200",
        "colab": {
          "base_uri": "https://localhost:8080/"
        }
      },
      "outputs": [
        {
          "output_type": "stream",
          "name": "stdout",
          "text": [
            "sensitivity 0.8324324324324325\n"
          ]
        }
      ],
      "source": [
        "# Calculate sensitivity using confusion metrics\n",
        "sensitivity = TP/float(FN+TP)\n",
        "\n",
        "#Print sensitivity\n",
        "print(\"sensitivity\",sensitivity)"
      ]
    },
    {
      "cell_type": "code",
      "execution_count": 25,
      "metadata": {
        "id": "I6JDxQS2VV2B",
        "outputId": "f8935359-9ce2-426a-9e3f-e6365541c027",
        "colab": {
          "base_uri": "https://localhost:8080/"
        }
      },
      "outputs": [
        {
          "output_type": "stream",
          "name": "stdout",
          "text": [
            "specificity 0.9991721854304636\n"
          ]
        }
      ],
      "source": [
        "# Calculate specificity using confusion metrics\n",
        "specificity = TN/ float(TN+FP)\n",
        "\n",
        "#Print specificity\n",
        "print(\"specificity\", specificity)"
      ]
    },
    {
      "cell_type": "code",
      "execution_count": 26,
      "metadata": {
        "id": "UpCabnloVV2B",
        "outputId": "67d30614-f554-4317-822a-a3bb75534d0c",
        "colab": {
          "base_uri": "https://localhost:8080/"
        }
      },
      "outputs": [
        {
          "output_type": "stream",
          "name": "stdout",
          "text": [
            "precision 0.9935483870967742\n"
          ]
        }
      ],
      "source": [
        "# Calculate precision using confusion metrics\n",
        "precision = TP/float(TP+FP)\n",
        "\n",
        "# print precision\n",
        "print(\"precision\",precision)\n"
      ]
    },
    {
      "cell_type": "markdown",
      "metadata": {
        "id": "apt9V0czVV2B"
      },
      "source": [
        "Let us print precision, recall and f1 score  using metrics sklearn library classification report"
      ]
    },
    {
      "cell_type": "code",
      "execution_count": 27,
      "metadata": {
        "id": "6aunfrsYVV2B",
        "outputId": "99e393b5-8a6f-42fe-cfcd-e905f7d3cafb",
        "colab": {
          "base_uri": "https://localhost:8080/"
        }
      },
      "outputs": [
        {
          "output_type": "stream",
          "name": "stdout",
          "text": [
            "              precision    recall  f1-score   support\n",
            "\n",
            "           0       0.97      1.00      0.99      1208\n",
            "           1       0.99      0.83      0.91       185\n",
            "\n",
            "    accuracy                           0.98      1393\n",
            "   macro avg       0.98      0.92      0.95      1393\n",
            "weighted avg       0.98      0.98      0.98      1393\n",
            "\n"
          ]
        }
      ],
      "source": [
        "#import classification_report\n",
        "from sklearn.metrics import classification_report\n",
        "\n",
        "#Print Precision, recall, f1-score and support\n",
        "print(classification_report(y_test,y_pred_class))\n"
      ]
    },
    {
      "cell_type": "markdown",
      "metadata": {
        "id": "sPDdLCLKVV2B"
      },
      "source": [
        "Well done! we hope you remember what are these data science terminologies( precision, recall and f1-score) mean.\n",
        "\n"
      ]
    },
    {
      "cell_type": "markdown",
      "metadata": {
        "id": "tKJq2z1sVV2B"
      },
      "source": [
        "## Creating ROC curve\n",
        "\n",
        "<p style='text-align: right;'> 10 points </p>\n",
        "\n",
        "\n",
        "AUC - ROC curve is a performance measurement for the classification problems at various threshold settings. It tells how much the model is capable of distinguishing between classes. Higher the AUC, the better the model is at predicting 0 classes as 0 and 1 classes as 1\n",
        "\n",
        "Reference video:\n",
        "Reference doc: https://scikit-learn.org/stable/modules/generated/sklearn.metrics.auc.html\n"
      ]
    },
    {
      "cell_type": "markdown",
      "source": [
        "## **`Watch Video 6: ROC AUC.`**"
      ],
      "metadata": {
        "id": "f2-r4nz9n4dD"
      }
    },
    {
      "cell_type": "code",
      "execution_count": 28,
      "metadata": {
        "id": "Fp0GV8fXVV2B",
        "colab": {
          "base_uri": "https://localhost:8080/"
        },
        "outputId": "defeb9b0-5f8d-4f96-b63c-3e4c2b7ce2de"
      },
      "outputs": [
        {
          "output_type": "stream",
          "name": "stdout",
          "text": [
            "0.9967692858421334\n"
          ]
        }
      ],
      "source": [
        "# import roc_curve and and auc\n",
        "from sklearn.metrics import roc_curve, auc\n",
        "\n",
        "#Calculate false_positive_rate , true_positive_rate and thresholds using roc_curve\n",
        "false_positive_rate, true_positive_rate, thresholds = roc_curve(y_test, y_pred_proba[:,1])\n",
        "\n",
        "\n",
        "#Calculate area under curve\n",
        "roc_auc =  auc(false_positive_rate, true_positive_rate)\n",
        "print(roc_auc)"
      ]
    },
    {
      "cell_type": "code",
      "execution_count": 29,
      "metadata": {
        "id": "IjECj7wQVV2C",
        "outputId": "e73a2b97-0196-4fa4-ddad-ebf1c0087f07",
        "colab": {
          "base_uri": "https://localhost:8080/"
        }
      },
      "outputs": [
        {
          "output_type": "stream",
          "name": "stdout",
          "text": [
            "0.9967692858421334\n"
          ]
        }
      ],
      "source": [
        "#Print area under the curve\n",
        "\n",
        "print(roc_auc)"
      ]
    },
    {
      "cell_type": "code",
      "source": [
        "false_positive_rate,true_positive_rate,thresholds"
      ],
      "metadata": {
        "colab": {
          "base_uri": "https://localhost:8080/"
        },
        "id": "0m_4kRjTITtQ",
        "outputId": "01898b84-b1be-4ba0-dc12-03068f7a6119"
      },
      "execution_count": 30,
      "outputs": [
        {
          "output_type": "execute_result",
          "data": {
            "text/plain": [
              "(array([0.00000000e+00, 0.00000000e+00, 0.00000000e+00, 0.00000000e+00,\n",
              "        0.00000000e+00, 0.00000000e+00, 0.00000000e+00, 0.00000000e+00,\n",
              "        0.00000000e+00, 0.00000000e+00, 0.00000000e+00, 0.00000000e+00,\n",
              "        0.00000000e+00, 8.27814570e-04, 8.27814570e-04, 8.27814570e-04,\n",
              "        8.27814570e-04, 1.65562914e-03, 1.65562914e-03, 2.48344371e-03,\n",
              "        2.48344371e-03, 3.31125828e-03, 3.31125828e-03, 4.13907285e-03,\n",
              "        4.13907285e-03, 5.79470199e-03, 5.79470199e-03, 7.45033113e-03,\n",
              "        7.45033113e-03, 8.27814570e-03, 8.27814570e-03, 1.57284768e-02,\n",
              "        1.57284768e-02, 4.63576159e-02, 4.80132450e-02, 7.11920530e-02,\n",
              "        7.11920530e-02, 9.27152318e-02, 9.27152318e-02, 9.43708609e-02,\n",
              "        9.60264901e-02, 1.28311258e-01, 1.28311258e-01, 2.14403974e-01,\n",
              "        2.16059603e-01, 2.20198675e-01, 2.23509934e-01, 2.31788079e-01,\n",
              "        2.34271523e-01, 2.47516556e-01, 2.49172185e-01, 2.65728477e-01,\n",
              "        2.69039735e-01, 2.77317881e-01, 2.78973510e-01, 2.90562914e-01,\n",
              "        2.92218543e-01, 3.00496689e-01, 3.02980132e-01, 3.30298013e-01,\n",
              "        3.33609272e-01, 3.34437086e-01, 3.36092715e-01, 3.48509934e-01,\n",
              "        3.50165563e-01, 3.62582781e-01, 3.73344371e-01, 4.53642384e-01,\n",
              "        4.57781457e-01, 4.69370861e-01, 4.71026490e-01, 4.99172185e-01,\n",
              "        5.00827815e-01, 5.04966887e-01, 5.07450331e-01, 5.09105960e-01,\n",
              "        5.10761589e-01, 5.13245033e-01, 5.14900662e-01, 5.76158940e-01,\n",
              "        5.77814570e-01, 5.79470199e-01, 5.81125828e-01, 5.85264901e-01,\n",
              "        5.86920530e-01, 6.19205298e-01, 6.21688742e-01, 6.25000000e-01,\n",
              "        6.26655629e-01, 6.92880795e-01, 6.94536424e-01, 7.27649007e-01,\n",
              "        7.29304636e-01, 7.83940397e-01, 7.85596026e-01, 8.12913907e-01,\n",
              "        8.14569536e-01, 8.45198675e-01, 8.46854305e-01, 8.94867550e-01,\n",
              "        9.03145695e-01, 9.32119205e-01, 9.33774834e-01, 9.35430464e-01,\n",
              "        9.37086093e-01, 1.00000000e+00]),\n",
              " array([0.        , 0.25405405, 0.28648649, 0.2972973 , 0.3027027 ,\n",
              "        0.32432432, 0.6       , 0.61081081, 0.61621622, 0.62702703,\n",
              "        0.68648649, 0.6972973 , 0.74054054, 0.74054054, 0.76216216,\n",
              "        0.77297297, 0.83243243, 0.83243243, 0.85945946, 0.85945946,\n",
              "        0.87567568, 0.87567568, 0.92972973, 0.92972973, 0.94594595,\n",
              "        0.94594595, 0.95135135, 0.95135135, 0.96216216, 0.96216216,\n",
              "        0.96756757, 0.96756757, 0.97297297, 0.97297297, 0.97297297,\n",
              "        0.97297297, 0.97837838, 0.97837838, 0.99459459, 0.99459459,\n",
              "        0.99459459, 0.99459459, 1.        , 1.        , 1.        ,\n",
              "        1.        , 1.        , 1.        , 1.        , 1.        ,\n",
              "        1.        , 1.        , 1.        , 1.        , 1.        ,\n",
              "        1.        , 1.        , 1.        , 1.        , 1.        ,\n",
              "        1.        , 1.        , 1.        , 1.        , 1.        ,\n",
              "        1.        , 1.        , 1.        , 1.        , 1.        ,\n",
              "        1.        , 1.        , 1.        , 1.        , 1.        ,\n",
              "        1.        , 1.        , 1.        , 1.        , 1.        ,\n",
              "        1.        , 1.        , 1.        , 1.        , 1.        ,\n",
              "        1.        , 1.        , 1.        , 1.        , 1.        ,\n",
              "        1.        , 1.        , 1.        , 1.        , 1.        ,\n",
              "        1.        , 1.        , 1.        , 1.        , 1.        ,\n",
              "        1.        , 1.        , 1.        , 1.        , 1.        ,\n",
              "        1.        ]),\n",
              " array([2.00000000e+00, 1.00000000e+00, 1.00000000e+00, 1.00000000e+00,\n",
              "        1.00000000e+00, 1.00000000e+00, 9.99997890e-01, 9.99996354e-01,\n",
              "        9.99995019e-01, 9.99994956e-01, 9.99331659e-01, 9.99303596e-01,\n",
              "        9.95870863e-01, 9.95462919e-01, 9.89588895e-01, 9.84971101e-01,\n",
              "        5.45317784e-01, 2.10969418e-01, 8.10085802e-02, 5.71073030e-02,\n",
              "        2.90086028e-02, 2.35876189e-02, 9.51989482e-05, 8.90802044e-05,\n",
              "        7.07278806e-05, 4.70943921e-05, 4.61263360e-05, 1.55662920e-05,\n",
              "        1.08401730e-05, 8.99660467e-06, 6.09486970e-06, 1.09724378e-06,\n",
              "        8.28411345e-07, 4.96407211e-08, 4.47105639e-08, 2.06982466e-08,\n",
              "        2.05911266e-08, 1.19010796e-08, 1.14871194e-08, 1.08372483e-08,\n",
              "        1.08303547e-08, 5.09956933e-09, 5.05703149e-09, 1.68232631e-09,\n",
              "        1.65630671e-09, 1.57483042e-09, 1.57290293e-09, 1.47852794e-09,\n",
              "        1.47818462e-09, 1.26916365e-09, 1.26104629e-09, 1.05260899e-09,\n",
              "        1.04831205e-09, 9.61532075e-10, 9.60797541e-10, 8.47442362e-10,\n",
              "        8.46842727e-10, 7.92713879e-10, 7.90831112e-10, 6.31432888e-10,\n",
              "        6.28639336e-10, 6.25266317e-10, 6.23799594e-10, 5.41076273e-10,\n",
              "        5.31177593e-10, 4.94955404e-10, 4.89656816e-10, 2.24458116e-10,\n",
              "        2.23954938e-10, 2.10744029e-10, 2.08966627e-10, 1.58949674e-10,\n",
              "        1.56507538e-10, 1.53496328e-10, 1.53449891e-10, 1.52304857e-10,\n",
              "        1.51845697e-10, 1.49301800e-10, 1.49013383e-10, 8.24890248e-11,\n",
              "        8.24170761e-11, 7.94340319e-11, 7.90737519e-11, 7.49111606e-11,\n",
              "        7.45505739e-11, 5.69856667e-11, 5.67768737e-11, 5.52120325e-11,\n",
              "        5.50249440e-11, 2.41532661e-11, 2.40712085e-11, 1.59646345e-11,\n",
              "        1.59430773e-11, 8.01784356e-12, 7.82420177e-12, 5.05124530e-12,\n",
              "        5.04952298e-12, 2.65928450e-12, 2.60449927e-12, 8.94654092e-13,\n",
              "        8.89011148e-13, 3.48167774e-13, 3.46813661e-13, 3.25682543e-13,\n",
              "        3.24822816e-13, 5.93867536e-17]))"
            ]
          },
          "metadata": {},
          "execution_count": 30
        }
      ]
    },
    {
      "cell_type": "markdown",
      "metadata": {
        "id": "1kkcXe-xVV2C"
      },
      "source": [
        "The ROC curve is plotted with TPR against the FPR where TPR is on the y-axis and FPR is on the x-axis."
      ]
    },
    {
      "cell_type": "code",
      "execution_count": 31,
      "metadata": {
        "id": "lygo6UkJVV2C",
        "outputId": "8e8dde79-1963-4c6f-e0b5-7d229a5281bf",
        "colab": {
          "base_uri": "https://localhost:8080/",
          "height": 487
        }
      },
      "outputs": [
        {
          "output_type": "display_data",
          "data": {
            "text/plain": [
              "<Figure size 1000x500 with 1 Axes>"
            ],
            "image/png": "[encoded data removed]"
          },
          "metadata": {}
        }
      ],
      "source": [
        "# plotting the ROC curve (false_positive_rate vs true_positive_rate )\n",
        "plt.figure(figsize=(10,5))\n",
        "plt.ylabel('True Positive Rate')\n",
        "plt.xlabel('False Positive Rate')\n",
        "plt.title('ROC Curve')\n",
        "plt.plot(false_positive_rate, true_positive_rate)\n",
        "plt.grid()\n",
        "plt.show()\n",
        "\n"
      ]
    },
    {
      "cell_type": "markdown",
      "metadata": {
        "id": "5TCdBksWVV2C"
      },
      "source": [
        "From above plot what do you understand?\n",
        "\n",
        "Do comment below on the same!"
      ]
    },
    {
      "cell_type": "raw",
      "metadata": {
        "id": "dwvtJ4lFVV2C"
      },
      "source": [
        "#comment:\n",
        "\n",
        "\n"
      ]
    },
    {
      "cell_type": "markdown",
      "metadata": {
        "id": "_zYlBiLxVV2C"
      },
      "source": [
        "Good job so far!\n",
        "\n",
        "Now we will try out Multinomial Naive Bayes to solve this use case. SO let's get started.\n",
        "\n",
        "Reference doc :<a href= \"https://scikit-learn.org/stable/modules/generated/sklearn.naive_bayes.MultinomialNB.html#:~:text=The%20multinomial%20Naive%20Bayes%20classifier,tf%2Didf%20may%20also%20work\">sklearn document </a>\n",
        "\n",
        "### 2. Multinomial Naive Bayes\n",
        "\n",
        "<p style='text-align: right;'> 10 points </p>\n"
      ]
    },
    {
      "cell_type": "markdown",
      "source": [
        "## **`Watch Video 7 : Multinomial Naive bayes`**"
      ],
      "metadata": {
        "id": "CysICqFQoEFi"
      }
    },
    {
      "cell_type": "code",
      "execution_count": 32,
      "metadata": {
        "id": "eadXLUgvVV2D",
        "outputId": "575bf6bc-995f-4f12-a8b2-75a93875370d",
        "colab": {
          "base_uri": "https://localhost:8080/"
        }
      },
      "outputs": [
        {
          "output_type": "stream",
          "name": "stdout",
          "text": [
            "0.9877961234745154\n"
          ]
        }
      ],
      "source": [
        "# import MultinomialNB\n",
        "\n",
        "from sklearn.naive_bayes import MultinomialNB\n",
        "# instantiate bernoulli NB object\n",
        "mnb = MultinomialNB()\n",
        "\n",
        "# fit model on training dataset\n",
        "mnb.fit(X_train_transformed,y_train)\n",
        "# predict class of y\n",
        "y_pred_class =mnb.predict(X_test_tranformed)\n",
        "\n",
        "# predict probability on y\n",
        "y_pred_proba =mnb.predict_proba(X_test_tranformed)\n",
        "\n",
        "# print accuracy score\n",
        "\n",
        "print(metrics.accuracy_score(y_test,y_pred_class))"
      ]
    },
    {
      "cell_type": "markdown",
      "metadata": {
        "id": "hQ35VFKaVV2D"
      },
      "source": [
        "#### Evaluation metrics"
      ]
    },
    {
      "cell_type": "code",
      "execution_count": 33,
      "metadata": {
        "id": "Vbjt3CU6VV2D",
        "outputId": "dab63d1e-fbf6-4455-b824-973f4fa9d8a7",
        "colab": {
          "base_uri": "https://localhost:8080/"
        }
      },
      "outputs": [
        {
          "output_type": "stream",
          "name": "stdout",
          "text": [
            "[[1201    7]\n",
            " [  10  175]]\n"
          ]
        }
      ],
      "source": [
        "# get confusion metrics\n",
        "confusion = metrics.confusion_matrix(y_test, y_pred_class)\n",
        "\n",
        "#print confusion metrics\n",
        "print(confusion)\n",
        "#Get True negative, Flase positive, Flase negative and True positive using confusion metrics\n",
        "TN = confusion[0,0]\n",
        "FP = confusion[0,1]\n",
        "FN = confusion[1,0]\n",
        "TP = confusion[1,1]\n"
      ]
    },
    {
      "cell_type": "markdown",
      "metadata": {
        "id": "H1d3I83qVV2D"
      },
      "source": [
        "Let us print precision, recall and f1 score  using metrics sklearn library classification report"
      ]
    },
    {
      "cell_type": "code",
      "execution_count": 34,
      "metadata": {
        "id": "cVZkMjw-VV2D",
        "outputId": "94b24711-e55c-4a5a-fc72-ba718934b3af",
        "colab": {
          "base_uri": "https://localhost:8080/"
        }
      },
      "outputs": [
        {
          "output_type": "stream",
          "name": "stdout",
          "text": [
            "              precision    recall  f1-score   support\n",
            "\n",
            "           0       0.99      0.99      0.99      1208\n",
            "           1       0.96      0.95      0.95       185\n",
            "\n",
            "    accuracy                           0.99      1393\n",
            "   macro avg       0.98      0.97      0.97      1393\n",
            "weighted avg       0.99      0.99      0.99      1393\n",
            "\n"
          ]
        }
      ],
      "source": [
        "#import classification_report\n",
        "from sklearn.metrics import classification_report\n",
        "\n",
        "#Print Precision, recall, f1-score and support\n",
        "print(classification_report(y_test,y_pred_class))\n"
      ]
    },
    {
      "cell_type": "markdown",
      "metadata": {
        "id": "UgRz4eNiVV2D"
      },
      "source": [
        "#### ROC curve\n",
        "\n",
        "<p style='text-align: right;'> 10 points </p>\n"
      ]
    },
    {
      "cell_type": "code",
      "execution_count": 35,
      "metadata": {
        "id": "aeHtG_VeVV2D",
        "colab": {
          "base_uri": "https://localhost:8080/"
        },
        "outputId": "b23bc4dc-9a93-4b3d-e4ea-76d3f273ba49"
      },
      "outputs": [
        {
          "output_type": "stream",
          "name": "stdout",
          "text": [
            "0.9921872203329157\n"
          ]
        }
      ],
      "source": [
        "# import roc_curve and and auc\n",
        "from sklearn.metrics import roc_curve, auc\n",
        "\n",
        "#Calculate false_positive_rate , true_positive_rate and thresholds using roc_curve\n",
        "false_positive_rate, true_positive_rate, thresholds = roc_curve(y_test,y_pred_proba[:,1])\n",
        "\n",
        "\n",
        "#Calculate area under curve\n",
        "roc_auc=auc(false_positive_rate, true_positive_rate)\n",
        "print(roc_auc)"
      ]
    },
    {
      "cell_type": "markdown",
      "metadata": {
        "id": "pDeQ1cQwVV2E"
      },
      "source": [
        "The ROC curve is plotted with TPR against the FPR where TPR is on the y-axis and FPR is on the x-axis."
      ]
    },
    {
      "cell_type": "code",
      "execution_count": 36,
      "metadata": {
        "id": "pLxbo4B9VV2E",
        "outputId": "f04a979c-a152-4dfd-c7f7-05e97cb1bac7",
        "colab": {
          "base_uri": "https://localhost:8080/",
          "height": 487
        }
      },
      "outputs": [
        {
          "output_type": "display_data",
          "data": {
            "text/plain": [
              "<Figure size 1000x500 with 1 Axes>"
            ],
            "image/png": "[encoded data removed]"
          },
          "metadata": {}
        }
      ],
      "source": [
        "# plotting the ROC curve (false_positive_rate vs true_positive_rate )\n",
        "\n",
        "plt.figure(figsize=(10,5))\n",
        "plt.ylabel('True Positive Rate')\n",
        "plt.xlabel('False Positive Rate')\n",
        "plt.title('ROC Curve')\n",
        "plt.plot(false_positive_rate, true_positive_rate)\n",
        "plt.grid()\n",
        "plt.show()\n",
        "\n",
        "\n",
        "\n",
        "\n"
      ]
    },
    {
      "cell_type": "markdown",
      "metadata": {
        "id": "B1EQAAA2VV2E"
      },
      "source": [
        "Do comment on above on the plot!"
      ]
    },
    {
      "cell_type": "raw",
      "metadata": {
        "id": "QevE2J3jVV2E"
      },
      "source": [
        "#comment:\n",
        "\n",
        "\n"
      ]
    },
    {
      "cell_type": "markdown",
      "metadata": {
        "id": "lPWZikb7VV2E"
      },
      "source": [
        "Though guassian naive bayes is applicable in this case, but still we try to implement guassian Niave Bayes as well here and see how differently it performs form the ohter two variant we already saw.\n",
        "\n",
        "Reference doc: https://scikit-learn.org/stable/modules/naive_bayes.html#gaussian-naive-bayes\n",
        "\n",
        "### 3. Guassian Naive Bayes\n",
        "\n",
        "<p style='text-align: right;'> 10 points </p>\n",
        "\n",
        "\n",
        "Reference video: https://www.youtube.com/watch?v=H3EjCKtlVog"
      ]
    },
    {
      "cell_type": "markdown",
      "source": [
        "## **`Watch Video 8: Gaussian Naive bayes`**"
      ],
      "metadata": {
        "id": "dFybb63ooSLo"
      }
    },
    {
      "cell_type": "code",
      "execution_count": 37,
      "metadata": {
        "id": "zc0U4_SQVV2E",
        "outputId": "f08b80a2-de86-40c0-9d94-e087fae62760",
        "colab": {
          "base_uri": "https://localhost:8080/"
        }
      },
      "outputs": [
        {
          "output_type": "stream",
          "name": "stdout",
          "text": [
            "0.8901651112706389\n"
          ]
        }
      ],
      "source": [
        "# import GaussianNB\n",
        "\n",
        "from sklearn.naive_bayes import GaussianNB\n",
        "# instantiate bernoulli NB object\n",
        "gnb = GaussianNB()\n",
        "\n",
        "# fit model on training dataset\n",
        "gnb.fit(X_train_transformed.toarray(),y_train)\n",
        "\n",
        "# predict class of y\n",
        "y_pred_class =gnb.predict(X_test_tranformed.toarray())\n",
        "\n",
        "# predict probability on y\n",
        "y_pred_proba =gnb.predict_proba(X_test_tranformed.toarray())\n",
        "\n",
        "# print accuracy score plt.figure(figsize=(10,5))\n",
        "print(metrics.accuracy_score(y_test, y_pred_class))\n",
        "\n",
        "\n"
      ]
    },
    {
      "cell_type": "markdown",
      "metadata": {
        "id": "Qce21FglVV2E"
      },
      "source": [
        "Note: If you get an error while doing above cell then just try to understand the code and try to change the code accordingly.\n",
        "\n",
        "#### Evaluation metrics"
      ]
    },
    {
      "cell_type": "code",
      "execution_count": 38,
      "metadata": {
        "id": "JpTv7FB_VV2E",
        "outputId": "b9dc728f-5bb3-485b-c725-67af9ea017b4",
        "colab": {
          "base_uri": "https://localhost:8080/"
        }
      },
      "outputs": [
        {
          "output_type": "stream",
          "name": "stdout",
          "text": [
            "[[1066  142]\n",
            " [  11  174]]\n"
          ]
        }
      ],
      "source": [
        "# get confusion metrics\n",
        "\n",
        "confusion = metrics.confusion_matrix(y_test, y_pred_class)\n",
        "\n",
        "#print confusion metrics\n",
        "print(confusion)\n",
        "#Get True negative, Flase positive, Flase negative and True positive using confusion metrics\n",
        "TN = confusion[0,0]\n",
        "FP = confusion[0,1]\n",
        "FN = confusion[1,0]\n",
        "TP = confusion[1,1]\n"
      ]
    },
    {
      "cell_type": "markdown",
      "metadata": {
        "id": "GVYh2a_6VV2F"
      },
      "source": [
        "Let us print precision, recall and f1 score  using metrics sklearn library classification report"
      ]
    },
    {
      "cell_type": "code",
      "execution_count": 39,
      "metadata": {
        "id": "9P-4D5gEVV2F",
        "outputId": "1a09d7cc-575e-496e-a5f8-016ad676eed6",
        "colab": {
          "base_uri": "https://localhost:8080/"
        }
      },
      "outputs": [
        {
          "output_type": "stream",
          "name": "stdout",
          "text": [
            "              precision    recall  f1-score   support\n",
            "\n",
            "           0       0.99      0.88      0.93      1208\n",
            "           1       0.55      0.94      0.69       185\n",
            "\n",
            "    accuracy                           0.89      1393\n",
            "   macro avg       0.77      0.91      0.81      1393\n",
            "weighted avg       0.93      0.89      0.90      1393\n",
            "\n"
          ]
        }
      ],
      "source": [
        "#import classification_report\n",
        "\n",
        "\n",
        "#Print Precision, recall, f1-score and support\n",
        "from sklearn.metrics import classification_report\n",
        "\n",
        "#Print Precision, recall, f1-score and support\n",
        "print(classification_report(y_test,y_pred_class))\n",
        "\n"
      ]
    },
    {
      "cell_type": "markdown",
      "metadata": {
        "id": "svDmk0syVV2F"
      },
      "source": [
        "####  ROC Curve\n",
        "\n",
        "<p style='text-align: right;'> 10 points </p>\n"
      ]
    },
    {
      "cell_type": "code",
      "execution_count": 40,
      "metadata": {
        "id": "EijEfsgEVV2F",
        "colab": {
          "base_uri": "https://localhost:8080/"
        },
        "outputId": "aaf5d611-64cd-4f14-a2d8-fe053c2e8344"
      },
      "outputs": [
        {
          "output_type": "stream",
          "name": "stdout",
          "text": [
            "0.9114954358331843\n"
          ]
        }
      ],
      "source": [
        "# import roc_curve and and auc\n",
        "\n",
        "from sklearn.metrics import roc_curve, auc\n",
        "\n",
        "#Calculate false_positive_rate , true_positive_rate and thresholds using roc_curve\n",
        "false_positive_rate, true_positive_rate, thresholds = roc_curve(y_test,y_pred_proba[:,1])\n",
        "\n",
        "\n",
        "#Calculate area under curve\n",
        "roc_auc=auc(false_positive_rate, true_positive_rate)\n",
        "print(roc_auc)\n",
        "#Calculate false_positive_rate , true_positive_rate and thresholds using roc_curve\n",
        "\n",
        "\n",
        "\n",
        "#Calculate area under curve\n",
        "\n"
      ]
    },
    {
      "cell_type": "code",
      "execution_count": 41,
      "metadata": {
        "id": "7KY__0cFVV2F",
        "outputId": "adbe0df3-e2be-40d0-8b86-891d2ee4b591",
        "colab": {
          "base_uri": "https://localhost:8080/",
          "height": 487
        }
      },
      "outputs": [
        {
          "output_type": "display_data",
          "data": {
            "text/plain": [
              "<Figure size 1000x500 with 1 Axes>"
            ],
            "image/png": "[encoded data removed]"
          },
          "metadata": {}
        }
      ],
      "source": [
        "# plotting the ROC curve (false_positive_rate vs true_positive_rate )\n",
        "\n",
        "plt.figure(figsize=(10,5))\n",
        "plt.ylabel('True Positive Rate')\n",
        "plt.xlabel('False Positive Rate')\n",
        "plt.title('ROC Curve')\n",
        "plt.plot(false_positive_rate, true_positive_rate)\n",
        "plt.grid()\n",
        "plt.show()\n",
        "\n",
        "\n",
        "\n"
      ]
    },
    {
      "cell_type": "markdown",
      "metadata": {
        "id": "YHa96vU_VV2F"
      },
      "source": [
        "Do comment on above on the plot!\n"
      ]
    },
    {
      "cell_type": "raw",
      "metadata": {
        "id": "HqU3jkGPVV2F"
      },
      "source": [
        "#comment:\n",
        "\n",
        "\n",
        "\n"
      ]
    },
    {
      "cell_type": "markdown",
      "metadata": {
        "id": "pctIEoMSVV2F"
      },
      "source": [
        "If you will see all three variant result of Naive Bayes, performance of multinomial is better than the other two variant.\n",
        "\n",
        "Let's print accuracy of all three below:\n",
        "\n",
        "\n",
        "<p style='text-align: right;'> 10 points </p>\n"
      ]
    },
    {
      "cell_type": "code",
      "execution_count": 43,
      "metadata": {
        "id": "0LRizzjzVV2F",
        "outputId": "9c360746-3a3c-4056-d1c5-736dc2ce8140",
        "colab": {
          "base_uri": "https://localhost:8080/"
        }
      },
      "outputs": [
        {
          "output_type": "stream",
          "name": "stdout",
          "text": [
            "Bernoulli : 0.8901651112706389\n",
            "Multinomial : 0.8901651112706389\n",
            "Gaussian : 0.8901651112706389\n"
          ]
        }
      ],
      "source": [
        "# print accuracy score of all three Naive Bayes algorithms.\n",
        "\n",
        "print(\"Bernoulli :\",metrics.accuracy_score(y_test, y_pred_class))\n",
        "print(\"Multinomial :\",metrics.accuracy_score(y_test,y_pred_class))\n",
        "print(\"Gaussian :\",metrics.accuracy_score(y_test, y_pred_class))\n",
        "\n"
      ]
    },
    {
      "cell_type": "markdown",
      "metadata": {
        "id": "s25CxjavVV2G"
      },
      "source": [
        "And hence it's proved that Multinomial Naive Bayes would solve this usecase of classifying spam messages correctly.\n",
        "\n",
        "So here with this conclusion that Multinomial works better here because frequency of each feature word has occured more than once in many cases, and hence multinomial fits  better in this case compared to Bernoulli and guassian Naive Bayes\n",
        "\n",
        "So well Done.\n",
        "\n",
        "\n",
        "**Note:** Please do watch all the videos provided in assignments, as it's purpose is to give clarity on each topic to get basics right inorder to crack any data science interview"
      ]
    },
    {
      "cell_type": "markdown",
      "metadata": {
        "id": "BE8u_sZlVV2G"
      },
      "source": [
        "---------------------------------\n",
        "\n",
        "# Cheers:) you have completed the 17th milestone challenge too.\n",
        "\n",
        "--------------------------------\n",
        "\n",
        "# FeedBack Time\n",
        "We hope you’ve enjoyed this course so far. We’re committed to help you use \"AI for All\" course to its full potential, so that you have a great learning experience. And that’s why we need your help in form of a feedback here.\n",
        "\n",
        "Please fill this feedback form https://docs.google.com/forms/d/e/1FAIpQLSfjBmH0yJSSA34IhSVx4h2eDMgOAeG4Dk-yHid__NMTk3Hq5g/viewform"
      ]
    }
  ],
  "metadata": {
    "kernelspec": {
      "display_name": "Python 3",
      "language": "python",
      "name": "python3"
    },
    "language_info": {
      "codemirror_mode": {
        "name": "ipython",
        "version": 3
      },
      "file_extension": ".py",
      "mimetype": "text/x-python",
      "name": "python",
      "nbconvert_exporter": "python",
      "pygments_lexer": "ipython3",
      "version": "3.8.5"
    },
    "colab": {
      "provenance": [],
      "collapsed_sections": [
        "56SiePUBVV1_"
      ],
      "include_colab_link": true
    }
  },
  "nbformat": 4,
  "nbformat_minor": 0
}